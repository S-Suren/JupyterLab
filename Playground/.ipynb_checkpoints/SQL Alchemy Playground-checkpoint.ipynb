{
 "cells": [
  {
   "cell_type": "markdown",
   "metadata": {
    "toc": "true"
   },
   "source": [
    "# Table of Contents\n",
    " <p><div class=\"lev1 toc-item\"><a href=\"#Initial\" data-toc-modified-id=\"Initial-1\"><span class=\"toc-item-num\">1&nbsp;&nbsp;</span>Initial</a></div><div class=\"lev1 toc-item\"><a href=\"#Manipulation\" data-toc-modified-id=\"Manipulation-2\"><span class=\"toc-item-num\">2&nbsp;&nbsp;</span>Manipulation</a></div><div class=\"lev3 toc-item\"><a href=\"#Creating-Tables\" data-toc-modified-id=\"Creating-Tables-201\"><span class=\"toc-item-num\">2.0.1&nbsp;&nbsp;</span>Creating Tables</a></div><div class=\"lev3 toc-item\"><a href=\"#Inserting-Rows\" data-toc-modified-id=\"Inserting-Rows-202\"><span class=\"toc-item-num\">2.0.2&nbsp;&nbsp;</span>Inserting Rows</a></div><div class=\"lev3 toc-item\"><a href=\"#Inserting-Multiple-Rows\" data-toc-modified-id=\"Inserting-Multiple-Rows-203\"><span class=\"toc-item-num\">2.0.3&nbsp;&nbsp;</span>Inserting Multiple Rows</a></div><div class=\"lev2 toc-item\"><a href=\"#Selecting\" data-toc-modified-id=\"Selecting-21\"><span class=\"toc-item-num\">2.1&nbsp;&nbsp;</span>Selecting</a></div>"
   ]
  },
  {
   "cell_type": "markdown",
   "metadata": {},
   "source": [
    "# Initial"
   ]
  },
  {
   "cell_type": "code",
   "execution_count": 1,
   "metadata": {
    "collapsed": true
   },
   "outputs": [],
   "source": [
    "import sqlalchemy"
   ]
  },
  {
   "cell_type": "code",
   "execution_count": 2,
   "metadata": {
    "collapsed": true
   },
   "outputs": [],
   "source": [
    "# Common: create_engine, MetaData, Column, Table, ForeignKey, Integer, String\n",
    "# Common: select, insert\n",
    "from sqlalchemy import *"
   ]
  },
  {
   "cell_type": "code",
   "execution_count": 3,
   "metadata": {
    "collapsed": false
   },
   "outputs": [],
   "source": [
    "database_server = '192.168.3.20' \n",
    "database_name = 'TestDB_ss'\n",
    "#database_name = 'AVERCAST'\n",
    "engi_uri =  'mssql+pymssql://{0}/{1}'.format(database_server, database_name)"
   ]
  },
  {
   "cell_type": "code",
   "execution_count": 4,
   "metadata": {
    "collapsed": true
   },
   "outputs": [],
   "source": [
    "engine = create_engine(engi_uri, echo = True)"
   ]
  },
  {
   "cell_type": "markdown",
   "metadata": {},
   "source": [
    "# Manipulation"
   ]
  },
  {
   "cell_type": "code",
   "execution_count": 5,
   "metadata": {
    "collapsed": false
   },
   "outputs": [
    {
     "name": "stdout",
     "output_type": "stream",
     "text": [
      "2017-03-09 15:24:43,781 INFO sqlalchemy.engine.base.Engine select @@version\n",
      "2017-03-09 15:24:43,791 INFO sqlalchemy.engine.base.Engine {}\n",
      "2017-03-09 15:24:43,792 INFO sqlalchemy.engine.base.Engine SELECT schema_name()\n",
      "2017-03-09 15:24:43,792 INFO sqlalchemy.engine.base.Engine {}\n",
      "2017-03-09 15:24:43,792 INFO sqlalchemy.engine.base.Engine SELECT CAST('test plain returns' AS VARCHAR(60)) AS anon_1\n",
      "2017-03-09 15:24:43,792 INFO sqlalchemy.engine.base.Engine {}\n",
      "2017-03-09 15:24:43,792 INFO sqlalchemy.engine.base.Engine SELECT CAST('test unicode returns' AS NVARCHAR(60)) AS anon_1\n",
      "2017-03-09 15:24:43,792 INFO sqlalchemy.engine.base.Engine {}\n"
     ]
    }
   ],
   "source": [
    "insp = inspect(engine)"
   ]
  },
  {
   "cell_type": "code",
   "execution_count": 6,
   "metadata": {
    "collapsed": false
   },
   "outputs": [
    {
     "name": "stdout",
     "output_type": "stream",
     "text": [
      "2017-03-09 15:24:50,616 INFO sqlalchemy.engine.base.Engine SELECT [INFORMATION_SCHEMA].[TABLES].[TABLE_NAME] \n",
      "FROM [INFORMATION_SCHEMA].[TABLES] \n",
      "WHERE [INFORMATION_SCHEMA].[TABLES].[TABLE_SCHEMA] = CAST(%(table_schema_1)s AS NVARCHAR(max)) AND [INFORMATION_SCHEMA].[TABLES].[TABLE_TYPE] = %(table_type_1)s ORDER BY [INFORMATION_SCHEMA].[TABLES].[TABLE_NAME]\n",
      "2017-03-09 15:24:50,616 INFO sqlalchemy.engine.base.Engine {'table_schema_1': 'dbo', 'table_type_1': 'BASE TABLE'}\n"
     ]
    },
    {
     "data": {
      "text/plain": [
       "['addresses', 'users']"
      ]
     },
     "execution_count": 6,
     "metadata": {},
     "output_type": "execute_result"
    }
   ],
   "source": [
    "insp.get_table_names()"
   ]
  },
  {
   "cell_type": "code",
   "execution_count": 7,
   "metadata": {
    "collapsed": false
   },
   "outputs": [],
   "source": [
    "metadata = MetaData(bind = engine)"
   ]
  },
  {
   "cell_type": "markdown",
   "metadata": {},
   "source": [
    "### Creating Tables"
   ]
  },
  {
   "cell_type": "code",
   "execution_count": 8,
   "metadata": {
    "collapsed": false
   },
   "outputs": [
    {
     "name": "stdout",
     "output_type": "stream",
     "text": [
      "2017-03-09 15:25:30,354 INFO sqlalchemy.engine.base.Engine SELECT [INFORMATION_SCHEMA].[COLUMNS].[TABLE_SCHEMA], [INFORMATION_SCHEMA].[COLUMNS].[TABLE_NAME], [INFORMATION_SCHEMA].[COLUMNS].[COLUMN_NAME], [INFORMATION_SCHEMA].[COLUMNS].[IS_NULLABLE], [INFORMATION_SCHEMA].[COLUMNS].[DATA_TYPE], [INFORMATION_SCHEMA].[COLUMNS].[ORDINAL_POSITION], [INFORMATION_SCHEMA].[COLUMNS].[CHARACTER_MAXIMUM_LENGTH], [INFORMATION_SCHEMA].[COLUMNS].[NUMERIC_PRECISION], [INFORMATION_SCHEMA].[COLUMNS].[NUMERIC_SCALE], [INFORMATION_SCHEMA].[COLUMNS].[COLUMN_DEFAULT], [INFORMATION_SCHEMA].[COLUMNS].[COLLATION_NAME] \n",
      "FROM [INFORMATION_SCHEMA].[COLUMNS] \n",
      "WHERE [INFORMATION_SCHEMA].[COLUMNS].[TABLE_NAME] = CAST(%(table_name_1)s AS NVARCHAR(max)) AND [INFORMATION_SCHEMA].[COLUMNS].[TABLE_SCHEMA] = CAST(%(table_schema_1)s AS NVARCHAR(max))\n",
      "2017-03-09 15:25:30,356 INFO sqlalchemy.engine.base.Engine {'table_schema_1': 'dbo', 'table_name_1': 'users'}\n",
      "2017-03-09 15:25:30,362 INFO sqlalchemy.engine.base.Engine SELECT [INFORMATION_SCHEMA].[COLUMNS].[TABLE_SCHEMA], [INFORMATION_SCHEMA].[COLUMNS].[TABLE_NAME], [INFORMATION_SCHEMA].[COLUMNS].[COLUMN_NAME], [INFORMATION_SCHEMA].[COLUMNS].[IS_NULLABLE], [INFORMATION_SCHEMA].[COLUMNS].[DATA_TYPE], [INFORMATION_SCHEMA].[COLUMNS].[ORDINAL_POSITION], [INFORMATION_SCHEMA].[COLUMNS].[CHARACTER_MAXIMUM_LENGTH], [INFORMATION_SCHEMA].[COLUMNS].[NUMERIC_PRECISION], [INFORMATION_SCHEMA].[COLUMNS].[NUMERIC_SCALE], [INFORMATION_SCHEMA].[COLUMNS].[COLUMN_DEFAULT], [INFORMATION_SCHEMA].[COLUMNS].[COLLATION_NAME] \n",
      "FROM [INFORMATION_SCHEMA].[COLUMNS] \n",
      "WHERE [INFORMATION_SCHEMA].[COLUMNS].[TABLE_NAME] = CAST(%(table_name_1)s AS NVARCHAR(max)) AND [INFORMATION_SCHEMA].[COLUMNS].[TABLE_SCHEMA] = CAST(%(table_schema_1)s AS NVARCHAR(max))\n",
      "2017-03-09 15:25:30,364 INFO sqlalchemy.engine.base.Engine {'table_schema_1': 'dbo', 'table_name_1': 'addresses'}\n"
     ]
    }
   ],
   "source": [
    "users_table = Table('users', metadata,\n",
    "                    Column('id', Integer, primary_key = True),\n",
    "                    Column('name', String(40)),\n",
    "                    Column('age', Integer),\n",
    "                    Column('password', String(25)))\n",
    "\n",
    "addresses_table = Table('addresses', metadata,\n",
    "                       Column('id', Integer, primary_key = True),\n",
    "                       Column('user_id', None, ForeignKey('users.id')),\n",
    "                       Column('email_address', String, nullable = False))\n",
    "\n",
    "metadata.create_all()"
   ]
  },
  {
   "cell_type": "code",
   "execution_count": 9,
   "metadata": {
    "collapsed": false,
    "scrolled": true
   },
   "outputs": [
    {
     "name": "stdout",
     "output_type": "stream",
     "text": [
      "2017-03-09 15:25:52,997 INFO sqlalchemy.engine.base.Engine SELECT [INFORMATION_SCHEMA].[COLUMNS].[TABLE_SCHEMA], [INFORMATION_SCHEMA].[COLUMNS].[TABLE_NAME], [INFORMATION_SCHEMA].[COLUMNS].[COLUMN_NAME], [INFORMATION_SCHEMA].[COLUMNS].[IS_NULLABLE], [INFORMATION_SCHEMA].[COLUMNS].[DATA_TYPE], [INFORMATION_SCHEMA].[COLUMNS].[ORDINAL_POSITION], [INFORMATION_SCHEMA].[COLUMNS].[CHARACTER_MAXIMUM_LENGTH], [INFORMATION_SCHEMA].[COLUMNS].[NUMERIC_PRECISION], [INFORMATION_SCHEMA].[COLUMNS].[NUMERIC_SCALE], [INFORMATION_SCHEMA].[COLUMNS].[COLUMN_DEFAULT], [INFORMATION_SCHEMA].[COLUMNS].[COLLATION_NAME] \n",
      "FROM [INFORMATION_SCHEMA].[COLUMNS] \n",
      "WHERE [INFORMATION_SCHEMA].[COLUMNS].[TABLE_NAME] = CAST(%(table_name_1)s AS NVARCHAR(max)) AND [INFORMATION_SCHEMA].[COLUMNS].[TABLE_SCHEMA] = CAST(%(table_schema_1)s AS NVARCHAR(max))\n",
      "2017-03-09 15:25:53,000 INFO sqlalchemy.engine.base.Engine {'table_schema_1': 'dbo', 'table_name_1': 'users'}\n",
      "2017-03-09 15:25:53,005 INFO sqlalchemy.engine.base.Engine SELECT [INFORMATION_SCHEMA].[COLUMNS].[TABLE_SCHEMA], [INFORMATION_SCHEMA].[COLUMNS].[TABLE_NAME], [INFORMATION_SCHEMA].[COLUMNS].[COLUMN_NAME], [INFORMATION_SCHEMA].[COLUMNS].[IS_NULLABLE], [INFORMATION_SCHEMA].[COLUMNS].[DATA_TYPE], [INFORMATION_SCHEMA].[COLUMNS].[ORDINAL_POSITION], [INFORMATION_SCHEMA].[COLUMNS].[CHARACTER_MAXIMUM_LENGTH], [INFORMATION_SCHEMA].[COLUMNS].[NUMERIC_PRECISION], [INFORMATION_SCHEMA].[COLUMNS].[NUMERIC_SCALE], [INFORMATION_SCHEMA].[COLUMNS].[COLUMN_DEFAULT], [INFORMATION_SCHEMA].[COLUMNS].[COLLATION_NAME] \n",
      "FROM [INFORMATION_SCHEMA].[COLUMNS] \n",
      "WHERE [INFORMATION_SCHEMA].[COLUMNS].[TABLE_NAME] = CAST(%(table_name_1)s AS NVARCHAR(max)) AND [INFORMATION_SCHEMA].[COLUMNS].[TABLE_SCHEMA] = CAST(%(table_schema_1)s AS NVARCHAR(max))\n",
      "2017-03-09 15:25:53,007 INFO sqlalchemy.engine.base.Engine {'table_schema_1': 'dbo', 'table_name_1': 'addresses'}\n"
     ]
    }
   ],
   "source": [
    "metadata.create_all()"
   ]
  },
  {
   "cell_type": "code",
   "execution_count": 10,
   "metadata": {
    "collapsed": false
   },
   "outputs": [],
   "source": [
    "someTable = Table('users', metadata, autoload = True)"
   ]
  },
  {
   "cell_type": "code",
   "execution_count": 11,
   "metadata": {
    "collapsed": false
   },
   "outputs": [
    {
     "data": {
      "text/plain": [
       "Table('users', MetaData(bind=Engine(mssql+pymssql://192.168.3.20/TestDB_ss)), Column('id', Integer(), table=<users>, primary_key=True, nullable=False), Column('name', String(length=40), table=<users>), Column('age', Integer(), table=<users>), Column('password', String(length=25), table=<users>), schema=None)"
      ]
     },
     "execution_count": 11,
     "metadata": {},
     "output_type": "execute_result"
    }
   ],
   "source": [
    "someTable"
   ]
  },
  {
   "cell_type": "markdown",
   "metadata": {},
   "source": [
    "### Inserting Rows"
   ]
  },
  {
   "cell_type": "code",
   "execution_count": 12,
   "metadata": {
    "collapsed": false
   },
   "outputs": [],
   "source": [
    "ins =  users_table.insert()\n",
    "\n",
    "new_user = ins.values(name = 'Joe', age = 20, password = 'pass')"
   ]
  },
  {
   "cell_type": "code",
   "execution_count": 13,
   "metadata": {
    "collapsed": false
   },
   "outputs": [
    {
     "name": "stdout",
     "output_type": "stream",
     "text": [
      "2017-03-09 15:27:05,784 INFO sqlalchemy.engine.base.Engine INSERT INTO users (name, age, password) OUTPUT inserted.id VALUES (%(name)s, %(age)s, %(password)s)\n",
      "2017-03-09 15:27:05,784 INFO sqlalchemy.engine.base.Engine {'password': 'pass', 'age': 20, 'name': 'Joe'}\n",
      "2017-03-09 15:27:05,784 INFO sqlalchemy.engine.base.Engine COMMIT\n"
     ]
    },
    {
     "data": {
      "text/plain": [
       "<sqlalchemy.engine.result.FullyBufferedResultProxy at 0x5482438>"
      ]
     },
     "execution_count": 13,
     "metadata": {},
     "output_type": "execute_result"
    }
   ],
   "source": [
    "# Using connections\n",
    "conn = engine.connect()\n",
    "conn.execute(new_user)"
   ]
  },
  {
   "cell_type": "code",
   "execution_count": 14,
   "metadata": {
    "collapsed": false
   },
   "outputs": [
    {
     "name": "stdout",
     "output_type": "stream",
     "text": [
      "2017-03-09 15:30:20,512 INFO sqlalchemy.engine.base.Engine INSERT INTO users (name, age, password) OUTPUT inserted.id VALUES (%(name)s, %(age)s, %(password)s)\n",
      "2017-03-09 15:30:20,513 INFO sqlalchemy.engine.base.Engine {'password': 'nihongo', 'age': 15, 'name': 'Shinji'}\n",
      "2017-03-09 15:30:20,516 INFO sqlalchemy.engine.base.Engine COMMIT\n"
     ]
    }
   ],
   "source": [
    "# Connectionless ways\n",
    "result = engine.execute(ins, name = 'Shinji', age = 15, password = 'nihongo')\n"
   ]
  },
  {
   "cell_type": "code",
   "execution_count": 15,
   "metadata": {
    "collapsed": false
   },
   "outputs": [
    {
     "name": "stdout",
     "output_type": "stream",
     "text": [
      "2017-03-09 15:30:21,719 INFO sqlalchemy.engine.base.Engine INSERT INTO users (name, age, password) OUTPUT inserted.id VALUES (%(name)s, %(age)s, %(password)s)\n",
      "2017-03-09 15:30:21,719 INFO sqlalchemy.engine.base.Engine {'name': 'Mary', 'age': 45, 'password': 'dingbat'}\n",
      "2017-03-09 15:30:21,720 INFO sqlalchemy.engine.base.Engine COMMIT\n"
     ]
    }
   ],
   "source": [
    "result = users_table.insert().execute(name = 'Mary', age = 45, password = 'dingbat')"
   ]
  },
  {
   "cell_type": "markdown",
   "metadata": {},
   "source": [
    "### Inserting Multiple Rows"
   ]
  },
  {
   "cell_type": "code",
   "execution_count": 16,
   "metadata": {
    "collapsed": false
   },
   "outputs": [
    {
     "name": "stdout",
     "output_type": "stream",
     "text": [
      "2017-03-09 15:30:23,614 INFO sqlalchemy.engine.base.Engine INSERT INTO users (name, age, password) VALUES (%(name)s, %(age)s, %(password)s)\n",
      "2017-03-09 15:30:23,614 INFO sqlalchemy.engine.base.Engine ({'name': 'Ted', 'age': 10, 'password': 'dink'}, {'name': 'Asahina', 'age': 25, 'password': 'nippon'}, {'name': 'Evan', 'age': 40, 'password': 'macaca'})\n",
      "2017-03-09 15:30:23,615 INFO sqlalchemy.engine.base.Engine COMMIT\n"
     ]
    },
    {
     "data": {
      "text/plain": [
       "<sqlalchemy.engine.result.ResultProxy at 0x539c828>"
      ]
     },
     "execution_count": 16,
     "metadata": {},
     "output_type": "execute_result"
    }
   ],
   "source": [
    "conn.execute(users_table.insert(),[ \n",
    "            {'name': 'Ted', 'age': 10, 'password': 'dink'},\n",
    "            {'name': 'Asahina', 'age': 25, 'password': 'nippon'},\n",
    "            {'name': 'Evan', 'age': 40, 'password': 'macaca'}\n",
    "])"
   ]
  },
  {
   "cell_type": "markdown",
   "metadata": {},
   "source": [
    "## Selecting"
   ]
  },
  {
   "cell_type": "code",
   "execution_count": 17,
   "metadata": {
    "collapsed": false
   },
   "outputs": [
    {
     "name": "stdout",
     "output_type": "stream",
     "text": [
      "2017-03-09 15:30:30,981 INFO sqlalchemy.engine.base.Engine SELECT users.id, users.name, users.age, users.password \n",
      "FROM users\n",
      "2017-03-09 15:30:30,982 INFO sqlalchemy.engine.base.Engine {}\n",
      "(1, 'Joe', 20, 'pass')\n",
      "(2, 'Shinji', 15, 'nihongo')\n",
      "(3, 'Mary', 45, 'dingbat')\n",
      "(4, 'Ted', 10, 'dink')\n",
      "(5, 'Asahina', 25, 'nippon')\n",
      "(6, 'Evan', 40, 'macaca')\n",
      "(7, 'Joe', 20, 'pass')\n",
      "(8, 'Shinji', 15, 'nihongo')\n",
      "(9, 'Mary', 45, 'dingbat')\n",
      "(10, 'Ted', 10, 'dink')\n",
      "(11, 'Asahina', 25, 'nippon')\n",
      "(12, 'Evan', 40, 'macaca')\n"
     ]
    }
   ],
   "source": [
    "s = select([users_table])\n",
    "result = s.execute()\n",
    "\n",
    "for row in result:\n",
    "    print(row)"
   ]
  },
  {
   "cell_type": "code",
   "execution_count": 18,
   "metadata": {
    "collapsed": false
   },
   "outputs": [
    {
     "name": "stdout",
     "output_type": "stream",
     "text": [
      "2017-03-09 15:30:32,000 INFO sqlalchemy.engine.base.Engine SELECT users.id, users.name, users.age, users.password \n",
      "FROM users\n",
      "2017-03-09 15:30:32,001 INFO sqlalchemy.engine.base.Engine {}\n"
     ]
    },
    {
     "data": {
      "text/plain": [
       "[(1, 'Joe', 20, 'pass'),\n",
       " (2, 'Shinji', 15, 'nihongo'),\n",
       " (3, 'Mary', 45, 'dingbat'),\n",
       " (4, 'Ted', 10, 'dink'),\n",
       " (5, 'Asahina', 25, 'nippon'),\n",
       " (6, 'Evan', 40, 'macaca'),\n",
       " (7, 'Joe', 20, 'pass'),\n",
       " (8, 'Shinji', 15, 'nihongo'),\n",
       " (9, 'Mary', 45, 'dingbat'),\n",
       " (10, 'Ted', 10, 'dink'),\n",
       " (11, 'Asahina', 25, 'nippon'),\n",
       " (12, 'Evan', 40, 'macaca')]"
      ]
     },
     "execution_count": 18,
     "metadata": {},
     "output_type": "execute_result"
    }
   ],
   "source": [
    "conn = engine.connect()\n",
    "res = conn.execute(s)\n",
    "rows = res.fetchall()\n",
    "\n",
    "rows"
   ]
  },
  {
   "cell_type": "code",
   "execution_count": 19,
   "metadata": {
    "collapsed": false
   },
   "outputs": [
    {
     "name": "stdout",
     "output_type": "stream",
     "text": [
      "2017-03-09 15:30:36,382 INFO sqlalchemy.engine.base.Engine SELECT users.id, users.name, users.age, users.password \n",
      "FROM users\n",
      "2017-03-09 15:30:36,382 INFO sqlalchemy.engine.base.Engine {}\n"
     ]
    },
    {
     "data": {
      "text/plain": [
       "(1, 'Joe', 20, 'pass')"
      ]
     },
     "execution_count": 19,
     "metadata": {},
     "output_type": "execute_result"
    }
   ],
   "source": [
    "res = conn.execute(s)\n",
    "row = res.fetchone()\n",
    "row"
   ]
  },
  {
   "cell_type": "code",
   "execution_count": null,
   "metadata": {
    "collapsed": true
   },
   "outputs": [],
   "source": []
  }
 ],
 "metadata": {
  "anaconda-cloud": {},
  "kernelspec": {
   "display_name": "Python [default]",
   "language": "python",
   "name": "python3"
  },
  "language_info": {
   "codemirror_mode": {
    "name": "ipython",
    "version": 3
   },
   "file_extension": ".py",
   "mimetype": "text/x-python",
   "name": "python",
   "nbconvert_exporter": "python",
   "pygments_lexer": "ipython3",
   "version": "3.5.2"
  },
  "toc": {
   "colors": {
    "hover_highlight": "#DAA520",
    "running_highlight": "#FF0000",
    "selected_highlight": "#FFD700"
   },
   "moveMenuLeft": true,
   "nav_menu": {
    "height": "119px",
    "width": "251px"
   },
   "navigate_menu": true,
   "number_sections": true,
   "sideBar": true,
   "threshold": 4,
   "toc_cell": true,
   "toc_section_display": "block",
   "toc_window_display": true
  }
 },
 "nbformat": 4,
 "nbformat_minor": 2
}
