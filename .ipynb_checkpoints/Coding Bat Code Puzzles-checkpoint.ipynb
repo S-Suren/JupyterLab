{
 "cells": [
  {
   "cell_type": "markdown",
   "metadata": {},
   "source": [
    "# Coding Bat"
   ]
  },
  {
   "cell_type": "markdown",
   "metadata": {},
   "source": [
    "## Warmup 1"
   ]
  },
  {
   "cell_type": "markdown",
   "metadata": {},
   "source": [
    "### SleepIn\n",
    "The parameter `weekday` is true if it is a weekday, and the parameter `vacation` is true if we are on vacation. We sleep in if it is not a weekday or we're on vacation. Return `True` if we sleep in.\n",
    "\n",
    "```\n",
    "sleepIn(weekday, vacation)\n",
    "\n",
    "\n",
    "sleepIn(False, False) = True\n",
    "sleepIn(True, False) = False\n",
    "sleepIn(False, True) = True\n",
    "```"
   ]
  },
  {
   "cell_type": "code",
   "execution_count": 4,
   "metadata": {
    "collapsed": false
   },
   "outputs": [
    {
     "data": {
      "text/latex": [
       "$$sleepIn(False, False) = True$$"
      ],
      "text/plain": [
       "<IPython.core.display.Latex object>"
      ]
     },
     "metadata": {},
     "output_type": "display_data"
    }
   ],
   "source": [
    "%%latex\n",
    "The parameter weekday is true if it is a weekday, and the parameter vacation is true if we are on vacation. \n",
    "We sleep in if it is not a weekday or we're on vacation. Return True if we sleep in.\n",
    "sleepIn(weekday, vacation)\n",
    "\n",
    "$$\n",
    "sleepIn(False, False) = True\n",
    "sleepIn(True, False) = False\n",
    "sleepIn(False, True) = True\n",
    "sleepIn(False, False) = True\n",
    "$$"
   ]
  },
  {
   "cell_type": "code",
   "execution_count": 7,
   "metadata": {
    "collapsed": false
   },
   "outputs": [],
   "source": [
    "def sleepIn(weekday, vacation):\n",
    "    if weekday is True and vacation is False:\n",
    "        return False\n",
    "    else:\n",
    "        return True"
   ]
  },
  {
   "cell_type": "code",
   "execution_count": 8,
   "metadata": {
    "collapsed": false
   },
   "outputs": [
    {
     "data": {
      "text/plain": [
       "True"
      ]
     },
     "execution_count": 8,
     "metadata": {},
     "output_type": "execute_result"
    }
   ],
   "source": [
    "sleepIn(False, False)"
   ]
  },
  {
   "cell_type": "markdown",
   "metadata": {},
   "source": [
    "### Solution"
   ]
  },
  {
   "cell_type": "code",
   "execution_count": 17,
   "metadata": {
    "collapsed": true
   },
   "outputs": [],
   "source": [
    "def sleepIn_Sol_1(weekday, vacation):\n",
    "    if not weekday or vacation:\n",
    "        return True\n",
    "    else:\n",
    "        return False\n",
    "    \n",
    "#Most Optimized\n",
    "def sleepIn_Sol_2(weekday, vacation):\n",
    "    return(not weekday or vacation)"
   ]
  },
  {
   "cell_type": "code",
   "execution_count": 14,
   "metadata": {
    "collapsed": false
   },
   "outputs": [
    {
     "data": {
      "text/plain": [
       "False"
      ]
     },
     "execution_count": 14,
     "metadata": {},
     "output_type": "execute_result"
    }
   ],
   "source": [
    "sleepIn_Sol_1(True, False)"
   ]
  },
  {
   "cell_type": "code",
   "execution_count": 16,
   "metadata": {
    "collapsed": false
   },
   "outputs": [
    {
     "data": {
      "text/plain": [
       "True"
      ]
     },
     "execution_count": 16,
     "metadata": {},
     "output_type": "execute_result"
    }
   ],
   "source": [
    "sleepIn_Sol_2(False, True)"
   ]
  },
  {
   "cell_type": "markdown",
   "metadata": {},
   "source": [
    "### Monkey Trouble\n",
    "\n",
    "We have two monkeys, a and b, and the parameters a_smile and b_smile indicate if each is smiling. We are in trouble if they are both smiling or if neither of them are smiling. Return True if we are in trouble.\n",
    "\n",
    "monkey_trouble(a_smile, b_smile)\n",
    "\n",
    "monkey_trouble(True, True) = True\n",
    "\n",
    "monkey_trouble(False, False) = True\n",
    "\n",
    "monkey_trouble(True, False) = False\n",
    "\n",
    "monkey_trouble(False, True) = False"
   ]
  },
  {
   "cell_type": "code",
   "execution_count": 18,
   "metadata": {
    "collapsed": true
   },
   "outputs": [],
   "source": [
    "def monkey_trouble(a_smile, b_smile):\n",
    "    return(a_smile == b_smile)\n",
    "\n",
    "#Got the most optimized solution on the first try."
   ]
  },
  {
   "cell_type": "code",
   "execution_count": 20,
   "metadata": {
    "collapsed": false
   },
   "outputs": [
    {
     "data": {
      "text/plain": [
       "False"
      ]
     },
     "execution_count": 20,
     "metadata": {},
     "output_type": "execute_result"
    }
   ],
   "source": [
    "monkey_trouble(True, False)"
   ]
  },
  {
   "cell_type": "markdown",
   "metadata": {},
   "source": [
    "### Sum Double\n",
    "\n",
    "Given two int values, return their sum. Unless the two values are the same, then return double their sum.\n",
    "\n",
    "sum_double(a, b)\n",
    "\n",
    "sum_double(1, 2) = 3\n",
    "\n",
    "sum_double(3, 2) = 5\n",
    "\n",
    "sum_double(2, 2) = 8"
   ]
  },
  {
   "cell_type": "code",
   "execution_count": 21,
   "metadata": {
    "collapsed": true
   },
   "outputs": [],
   "source": [
    "def sum_double(a, b):\n",
    "    if a == b:\n",
    "        return 4*a\n",
    "    else:\n",
    "        return a + b"
   ]
  },
  {
   "cell_type": "code",
   "execution_count": 23,
   "metadata": {
    "collapsed": false
   },
   "outputs": [
    {
     "data": {
      "text/plain": [
       "8"
      ]
     },
     "execution_count": 23,
     "metadata": {},
     "output_type": "execute_result"
    }
   ],
   "source": [
    "sum_double(2, 2)"
   ]
  },
  {
   "cell_type": "markdown",
   "metadata": {},
   "source": [
    "### Diff 21\n",
    "\n",
    "Given an int, n, return the absolute difference between n and 21, except return double the absolute difference if n is over 21.\n",
    "\n",
    "diff21(n)\n",
    "\n",
    "diff21(19) = 2\n",
    "\n",
    "diff21(10) = 11\n",
    "\n",
    "diff21(21) = 0"
   ]
  },
  {
   "cell_type": "code",
   "execution_count": 24,
   "metadata": {
    "collapsed": true
   },
   "outputs": [],
   "source": [
    "def diff21(n):\n",
    "    if n <= 21:\n",
    "        return abs(n - 21)\n",
    "    else:\n",
    "        return 2*abs(n-21)"
   ]
  },
  {
   "cell_type": "code",
   "execution_count": 28,
   "metadata": {
    "collapsed": false
   },
   "outputs": [
    {
     "data": {
      "text/plain": [
       "58"
      ]
     },
     "execution_count": 28,
     "metadata": {},
     "output_type": "execute_result"
    }
   ],
   "source": [
    "diff21(50)"
   ]
  },
  {
   "cell_type": "code",
   "execution_count": 1,
   "metadata": {
    "collapsed": true
   },
   "outputs": [],
   "source": [
    "%quickref"
   ]
  }
 ],
 "metadata": {
  "kernelspec": {
   "display_name": "Python 3",
   "language": "python",
   "name": "python3"
  },
  "language_info": {
   "codemirror_mode": {
    "name": "ipython",
    "version": 3
   },
   "file_extension": ".py",
   "mimetype": "text/x-python",
   "name": "python",
   "nbconvert_exporter": "python",
   "pygments_lexer": "ipython3",
   "version": "3.5.1"
  }
 },
 "nbformat": 4,
 "nbformat_minor": 0
}
