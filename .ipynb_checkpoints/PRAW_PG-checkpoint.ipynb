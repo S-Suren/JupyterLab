{
 "cells": [
  {
   "cell_type": "code",
   "execution_count": 2,
   "metadata": {
    "collapsed": false
   },
   "outputs": [
    {
     "name": "stdout",
     "output_type": "stream",
     "text": [
      "{'AskReddit': 4,\n",
      " 'INTP': 29,\n",
      " 'Lubbock': 12,\n",
      " 'SweatyPalms': 44,\n",
      " 'changemyview': 173,\n",
      " 'mildlyinteresting': 13,\n",
      " 'physicsgifs': 269}\n"
     ]
    },
    {
     "data": {
      "text/plain": [
       "{'AskReddit': 4,\n",
       " 'INTP': 29,\n",
       " 'Lubbock': 12,\n",
       " 'SweatyPalms': 44,\n",
       " 'changemyview': 173,\n",
       " 'mildlyinteresting': 13,\n",
       " 'physicsgifs': 269}"
      ]
     },
     "execution_count": 2,
     "metadata": {},
     "output_type": "execute_result"
    }
   ],
   "source": [
    "import praw, time, pprint, \n",
    "\n",
    "user_agent = \"Karma Breakdown 1.0 by /u/Nazi_Ganesh\"\n",
    "r = praw.Reddit(user_agent = user_agent)\n",
    "\n",
    "user_name = \"Nazi_Ganesh\"\n",
    "user = r.get_redditor(user_name)\n",
    "\n",
    "thing_limit = 10\n",
    "gen = user.get_submitted(limit=thing_limit)\n",
    "\n",
    "karma_by_subreddit = {}\n",
    "for thing in gen:\n",
    "    subreddit = thing.subreddit.display_name\n",
    "    karma_by_subreddit[subreddit] = (karma_by_subreddit.get(subreddit, 0)\n",
    "                                    + thing.score)\n",
    "    \n",
    "pprint.pprint(karma_by_subreddit)\n",
    "karma_by_subreddit"
   ]
  },
  {
   "cell_type": "code",
   "execution_count": 2,
   "metadata": {
    "collapsed": false
   },
   "outputs": [],
   "source": [
    "import praw\n",
    "from IPython.core.interactiveshell import InteractiveShell\n",
    "InteractiveShell.ast_node_interactivity = \"all\"\n",
    "\n",
    "user_agent = \"Testing Praw 1.0 by /u/Nazi_Ganesh\"\n",
    "r = praw.Reddit(user_agent = user_agent)"
   ]
  },
  {
   "cell_type": "code",
   "execution_count": 2,
   "metadata": {
    "collapsed": false
   },
   "outputs": [
    {
     "data": {
      "text/plain": [
       "['MULTI_PATH',\n",
       " 'RETRY_CODES',\n",
       " '__class__',\n",
       " '__delattr__',\n",
       " '__dict__',\n",
       " '__dir__',\n",
       " '__doc__',\n",
       " '__eq__',\n",
       " '__format__',\n",
       " '__ge__',\n",
       " '__getattribute__',\n",
       " '__gt__',\n",
       " '__hash__',\n",
       " '__init__',\n",
       " '__le__',\n",
       " '__lt__',\n",
       " '__module__',\n",
       " '__ne__',\n",
       " '__new__',\n",
       " '__reduce__',\n",
       " '__reduce_ex__',\n",
       " '__repr__',\n",
       " '__setattr__',\n",
       " '__sizeof__',\n",
       " '__str__',\n",
       " '__subclasshook__',\n",
       " '__weakref__',\n",
       " '_add_comment',\n",
       " '_authentication',\n",
       " '_get_userlist',\n",
       " '_handle_oauth_request',\n",
       " '_json_reddit_objecter',\n",
       " '_leave_status',\n",
       " '_mark_as_read',\n",
       " '_request',\n",
       " '_unique_count',\n",
       " '_url_update',\n",
       " '_use_oauth',\n",
       " 'accept_moderator_invite',\n",
       " 'access_token',\n",
       " 'add_flair_template',\n",
       " 'clear_authentication',\n",
       " 'clear_flair_templates',\n",
       " 'client_id',\n",
       " 'client_secret',\n",
       " 'config',\n",
       " 'configure_flair',\n",
       " 'copy_multireddit',\n",
       " 'create_multireddit',\n",
       " 'create_redditor',\n",
       " 'create_subreddit',\n",
       " 'default_subreddits',\n",
       " 'delete',\n",
       " 'delete_flair',\n",
       " 'delete_image',\n",
       " 'delete_multireddit',\n",
       " 'edit_multireddit',\n",
       " 'edit_wiki_page',\n",
       " 'evict',\n",
       " 'get_access_information',\n",
       " 'get_authorize_url',\n",
       " 'get_banned',\n",
       " 'get_comment_replies',\n",
       " 'get_comments',\n",
       " 'get_content',\n",
       " 'get_contributors',\n",
       " 'get_controversial',\n",
       " 'get_domain_listing',\n",
       " 'get_edited',\n",
       " 'get_flair',\n",
       " 'get_flair_choices',\n",
       " 'get_flair_list',\n",
       " 'get_friends',\n",
       " 'get_front_page',\n",
       " 'get_inbox',\n",
       " 'get_info',\n",
       " 'get_me',\n",
       " 'get_mentions',\n",
       " 'get_message',\n",
       " 'get_messages',\n",
       " 'get_mod_log',\n",
       " 'get_mod_mail',\n",
       " 'get_mod_queue',\n",
       " 'get_moderators',\n",
       " 'get_multireddit',\n",
       " 'get_multireddits',\n",
       " 'get_muted',\n",
       " 'get_my_contributions',\n",
       " 'get_my_moderation',\n",
       " 'get_my_multireddits',\n",
       " 'get_my_subreddits',\n",
       " 'get_new',\n",
       " 'get_new_subreddits',\n",
       " 'get_popular_subreddits',\n",
       " 'get_post_replies',\n",
       " 'get_random_submission',\n",
       " 'get_random_subreddit',\n",
       " 'get_redditor',\n",
       " 'get_reports',\n",
       " 'get_rising',\n",
       " 'get_rules',\n",
       " 'get_sent',\n",
       " 'get_settings',\n",
       " 'get_spam',\n",
       " 'get_sticky',\n",
       " 'get_stylesheet',\n",
       " 'get_submission',\n",
       " 'get_submissions',\n",
       " 'get_subreddit',\n",
       " 'get_subreddit_recommendations',\n",
       " 'get_top',\n",
       " 'get_traffic',\n",
       " 'get_unmoderated',\n",
       " 'get_unread',\n",
       " 'get_wiki_banned',\n",
       " 'get_wiki_contributors',\n",
       " 'get_wiki_page',\n",
       " 'get_wiki_pages',\n",
       " 'handler',\n",
       " 'has_oauth_app_info',\n",
       " 'has_scope',\n",
       " 'hide',\n",
       " 'http',\n",
       " 'is_logged_in',\n",
       " 'is_oauth_session',\n",
       " 'is_username_available',\n",
       " 'leave_contributor',\n",
       " 'leave_moderator',\n",
       " 'login',\n",
       " 'modhash',\n",
       " 'openssl_warned',\n",
       " 'redirect_uri',\n",
       " 'refresh_access_information',\n",
       " 'refresh_token',\n",
       " 'rename_multireddit',\n",
       " 'request',\n",
       " 'request_json',\n",
       " 'search',\n",
       " 'search_reddit_names',\n",
       " 'select_flair',\n",
       " 'send_message',\n",
       " 'set_access_credentials',\n",
       " 'set_flair',\n",
       " 'set_flair_csv',\n",
       " 'set_oauth_app_info',\n",
       " 'set_settings',\n",
       " 'set_stylesheet',\n",
       " 'submit',\n",
       " 'subscribe',\n",
       " 'unhide',\n",
       " 'unsubscribe',\n",
       " 'update_checked',\n",
       " 'update_settings',\n",
       " 'upload_image',\n",
       " 'user']"
      ]
     },
     "execution_count": 2,
     "metadata": {},
     "output_type": "execute_result"
    }
   ],
   "source": [
    "dir(r)"
   ]
  },
  {
   "cell_type": "code",
   "execution_count": 9,
   "metadata": {
    "collapsed": false
   },
   "outputs": [
    {
     "data": {
      "text/plain": [
       "'all'"
      ]
     },
     "execution_count": 9,
     "metadata": {},
     "output_type": "execute_result"
    },
    {
     "data": {
      "text/plain": [
       "<function str.title>"
      ]
     },
     "execution_count": 9,
     "metadata": {},
     "output_type": "execute_result"
    },
    {
     "data": {
      "text/plain": [
       "<bound method _get_sorter.<locals>._sorted of Subreddit(subreddit_name='all')>"
      ]
     },
     "execution_count": 9,
     "metadata": {},
     "output_type": "execute_result"
    },
    {
     "data": {
      "text/plain": [
       "<bound method UnauthenticatedReddit.get_traffic of Subreddit(subreddit_name='all')>"
      ]
     },
     "execution_count": 9,
     "metadata": {},
     "output_type": "execute_result"
    }
   ],
   "source": [
    "subR = r.get_subreddit('all')\n",
    "#subR\n",
    "subR.display_name\n",
    "subR.display_name.title\n",
    "#subR.fullname\n",
    "subR.get_top_from_all\n",
    "subR.get_traffic\n",
    "subR.json_dict"
   ]
  },
  {
   "cell_type": "code",
   "execution_count": 14,
   "metadata": {
    "collapsed": false
   },
   "outputs": [
    {
     "ename": "TypeError",
     "evalue": "'method' object is not iterable",
     "output_type": "error",
     "traceback": [
      "\u001b[0;31m---------------------------------------------------------------------------\u001b[0m",
      "\u001b[0;31mTypeError\u001b[0m                                 Traceback (most recent call last)",
      "\u001b[0;32m<ipython-input-14-01104db1b7ee>\u001b[0m in \u001b[0;36m<module>\u001b[0;34m()\u001b[0m\n\u001b[0;32m----> 1\u001b[0;31m \u001b[1;32mfor\u001b[0m \u001b[0msubmission\u001b[0m \u001b[1;32min\u001b[0m \u001b[0msubR\u001b[0m\u001b[1;33m.\u001b[0m\u001b[0mget_top_from_all\u001b[0m\u001b[1;33m:\u001b[0m\u001b[1;33m\u001b[0m\u001b[0m\n\u001b[0m\u001b[1;32m      2\u001b[0m     \u001b[0msubmission\u001b[0m\u001b[1;33m.\u001b[0m\u001b[0mtitle\u001b[0m\u001b[1;33m\u001b[0m\u001b[0m\n",
      "\u001b[0;31mTypeError\u001b[0m: 'method' object is not iterable"
     ]
    }
   ],
   "source": []
  },
  {
   "cell_type": "code",
   "execution_count": null,
   "metadata": {
    "collapsed": true
   },
   "outputs": [],
   "source": []
  }
 ],
 "metadata": {
  "kernelspec": {
   "display_name": "Python 3",
   "language": "python",
   "name": "python3"
  },
  "language_info": {
   "codemirror_mode": {
    "name": "ipython",
    "version": 3
   },
   "file_extension": ".py",
   "mimetype": "text/x-python",
   "name": "python",
   "nbconvert_exporter": "python",
   "pygments_lexer": "ipython3",
   "version": "3.5.2"
  }
 },
 "nbformat": 4,
 "nbformat_minor": 1
}
