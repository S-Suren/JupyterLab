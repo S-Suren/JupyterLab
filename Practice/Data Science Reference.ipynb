{
 "cells": [
  {
   "cell_type": "markdown",
   "metadata": {
    "slideshow": {
     "slide_type": "slide"
    }
   },
   "source": [
    "# Concepts"
   ]
  },
  {
   "cell_type": "markdown",
   "metadata": {
    "slideshow": {
     "slide_type": "slide"
    }
   },
   "source": [
    "- ## 3 Types of Learning\n",
    "    - Supervised\n",
    "        - Regression (Continous Output)\n",
    "        - Classification (Labels, names, classes, no order)\n",
    "            - K-Nearest Neighbors\n",
    "                - KNN can predict the response class for a future observation by calculating the \"distance\" to all training observations and assuming that the response class of nearby observations is likely to be similar. These predictions can be visualized using a classification map.\n",
    "            - Support Vector Machine (SVM)\n",
    "                - Splitting data linear and non-linear.\n",
    "                - Used when not enough training data.\n",
    "                - Data is geometrical in nature: Computer Vision, etc.\n",
    "                - Not good for classes greater than two.\n",
    "            - Decision Tree\n",
    "                - Explore Decision Forests for highly multi-dimensional data.\n",
    "            - Logistic Regression\n",
    "                - Used for probabilistic scenarios.\n",
    "                - Tells you which features are important.\n",
    "                - Training is relatively fast.\n",
    "                - Not too precise.\n",
    "    - Unsupervised\n",
    "        - Clustering (Find groupings of similar data.):\n",
    "            - Clustering is intrinsically inaccurate.\n",
    "                - Crowdsource labeled data and use classification instead.\n",
    "            Clustering Algorithms\n",
    "                - Centroid Based\n",
    "                    - Min Batch K Means\n",
    "                    - Affinity Propagation\n",
    "                    - Mean Shift\n",
    "                - Hierarchical: Connecting data nearest points until a set distance.\n",
    "                    - Spectral Clustering\n",
    "                    - Ward\n",
    "                - Neighborhood Growers: Grows locally.\n",
    "                    - Agglomerative Clustering\n",
    "                    - DBSCAN\n",
    "            - k-Means Clustering\n",
    "                - Method\n",
    "                    - Define centroids\n",
    "                        - Highly dependent on initial locations.\n",
    "                    - Associate data around those clusters.\n",
    "                    - Find the mean of clusters and assign the centroids to that mean.\n",
    "                    - Repeat until movement is not so much.\n",
    "                - Silhouette Coefficient for Error Checking\n",
    "            - Clustering Ensembles\n",
    "        - Compression (Remove noises, reducing dimensions in datasets.)\n",
    "    - Reinforcement\n",
    "    \n",
    "- ## Techniques for Training\n",
    "    - Validation\n",
    "        - Train/Split Method\n",
    "            - Runs \"K\" times faster than K-Fold X-Vald.\n",
    "            - Simpler and therefore easier to examine the details.\n",
    "        - K-Fold Cross Validation\n",
    "            - Essentially Train/Split methods done many times.\n",
    "            - More accurate estimate of out-of-sample accuracy.\n",
    "            - Tips\n",
    "                - K= 10 is recommended. It has been shown to be the best for out of sample accuracy.\n",
    "                - For classification problems: Use *Stratified Sampling*.\n",
    "                    - The proportions of the features should be reflected in each fold also. (An 80/20 split of data of two features should also have a 80/20 split in each fold.\n",
    "                    - When using `cross_val_score`, SS is the default."
   ]
  },
  {
   "cell_type": "markdown",
   "metadata": {
    "heading_collapsed": true
   },
   "source": [
    "# Languages/Tools"
   ]
  },
  {
   "cell_type": "markdown",
   "metadata": {
    "hidden": true
   },
   "source": [
    "## Python"
   ]
  },
  {
   "cell_type": "markdown",
   "metadata": {
    "hidden": true
   },
   "source": [
    "- ### Learning\n",
    "    - [Learn Python the Hard Way](https://learnpythonthehardway.org/book/)\n",
    "    - [Ploty Tutorials](https://plot.ly/python/)\n",
    "    \n",
    "    - Beautiful Soup 4\n",
    "        - [Web Scraping with Beautiful Soup](http://web.stanford.edu/~zlotnick/TextAsData/Web_Scraping_with_Beautiful_Soup.html)\n",
    "        - [Beautiful Soup 4 Python Tutorial](http://codegists.com/code/beautiful-soup-4-python-tutorial/)"
   ]
  },
  {
   "cell_type": "markdown",
   "metadata": {
    "hidden": true
   },
   "source": [
    "- ### Modules\n",
    "    - **NumPy** stands for Numerical Python. The most powerful feature of NumPy is n-dimensional array. This library also contains basic linear algebra functions, Fourier transforms,  advanced random number capabilities and tools for integration with other low level languages like Fortran, C and C++\n",
    "\n",
    "    - **SciPy** stands for Scientific Python. SciPy is built on NumPy. It is one of the most useful library for variety of high level science and engineering modules like discrete Fourier transform, Linear Algebra, Optimization and Sparse matrices.\n",
    "\n",
    "    - **Matplotlib** for plotting vast variety of graphs, starting from histograms to line plots to heat plots.. You can use Pylab feature in ipython notebook (ipython notebook –pylab = inline) to use these plotting features inline. If you ignore the inline option, then pylab converts ipython environment to an environment, very similar to Matlab. You can also use Latex commands to add math to your plot.\n",
    "\n",
    "    - **Pandas** for structured data operations and manipulations. It is extensively used for data munging and preparation. Pandas were added relatively recently to Python and have been instrumental in boosting Python’s usage in data scientist community.\n",
    "\n",
    "    - **Scikit Learn** for machine learning. Built on NumPy, SciPy and matplotlib, this library contains a lot of effiecient tools for machine learning and statistical modeling including classification, regression, clustering and dimensionality reduction.\n",
    "\n",
    "    - **Statsmodels** for statistical modeling. Statsmodels is a Python module that allows users to explore data, estimate statistical models, and perform statistical tests. An extensive list of descriptive statistics, statistical tests, plotting functions, and result statistics are available for different types of data and each estimator.\n",
    "\n",
    "    - **Seaborn** for statistical data visualization. Seaborn is a library for making attractive and informative statistical graphics in Python. It is based on matplotlib. Seaborn aims to make visualization a central part of exploring and understanding data.\n",
    "\n",
    "    - **Bokeh** for creating interactive plots, dashboards and data applications on modern web-browsers. It empowers the user to generate elegant and concise graphics in the style of D3.js. Moreover, it has the capability of high-performance interactivity over very large or streaming datasets.\n",
    "\n",
    "    - **Blaze** for extending the capability of Numpy and Pandas to distributed and streaming datasets. It can be used to access data from a multitude of sources including Bcolz, MongoDB, SQLAlchemy, Apache Spark, PyTables, etc. Together with Bokeh, Blaze can act as a very powerful tool for creating effective visualizations and dashboards on huge chunks of data.\n",
    "\n",
    "    - **Scrapy** for web crawling. It is a very useful framework for getting specific patterns of data. It has the capability to start at a website home url and then dig through web-pages within the website to gather information.\n",
    "\n",
    "    - **SymPy** for symbolic computation. It has wide-ranging capabilities from basic symbolic arithmetic to calculus, algebra, discrete mathematics and quantum physics. Another useful feature is the capability of formatting the result of the computations as LaTeX code.\n",
    "\n",
    "    - **Requests** for accessing the web. It works similar to the the standard python library urllib2 but is much easier to code. You will find subtle differences with urllib2 but for beginners, Requests might be more convenient.\n",
    "\n",
    "    - **Additional Modules**\n",
    "\n",
    "        - **os** for Operating system and file operations\n",
    "        - **networkx** and **igraph** for graph based data manipulations\n",
    "        - **regular expressions** for finding patterns in text data\n",
    "        - **BeautifulSoup** for scrapping web. It is inferior to Scrapy as it will extract information from just a single webpage in a run."
   ]
  },
  {
   "cell_type": "markdown",
   "metadata": {
    "hidden": true
   },
   "source": [
    "## BASH"
   ]
  },
  {
   "cell_type": "markdown",
   "metadata": {
    "hidden": true
   },
   "source": [
    "- ### Learning"
   ]
  },
  {
   "cell_type": "markdown",
   "metadata": {
    "hidden": true
   },
   "source": [
    "## JSON"
   ]
  },
  {
   "cell_type": "markdown",
   "metadata": {
    "hidden": true
   },
   "source": [
    "- **J**ava**S**cript **O**bject **N**otation \n",
    "- [Basics](https://www.tutorialspoint.com/json/)\n",
    "- [Learn JSON in 10 Minutes](http://beginnersbook.com/2015/04/json-tutorial/)\n",
    "- Alternate to XML\n",
    "- Example:\n",
    "```\n",
    "var suren = {\n",
    "   \"firstName\" : \"Shivakumar\",\n",
    "   \"lastName\" : \"Surendranath\",\n",
    "   \"age\" :  \"26\"\n",
    "};\n",
    "```\n",
    "```\n",
    "document.writeln(\"Full name is:  \" + suren.firstName +\n",
    "                 \" \" + suren.lastName);\n",
    "document.writeln(\"His age is: \" + suren.age);\n",
    "```\n",
    "\n",
    "Notes\n",
    "- Lightweight text-based open standard designed for human-readable data interchange.\n",
    "- filename extension is *.json*\n",
    "- Data is represented in name/value pairs.\n",
    "- Curly braces hold objects and each name is followed by ':'(colon), the name/value pairs are separated by , (comma).\n",
    "- "
   ]
  },
  {
   "cell_type": "markdown",
   "metadata": {
    "hidden": true
   },
   "source": [
    "## TensorFlow"
   ]
  },
  {
   "cell_type": "markdown",
   "metadata": {
    "hidden": true
   },
   "source": [
    "- Deep Learning framework from Google"
   ]
  },
  {
   "cell_type": "markdown",
   "metadata": {
    "hidden": true
   },
   "source": [
    "## Hadoop"
   ]
  },
  {
   "cell_type": "markdown",
   "metadata": {
    "hidden": true
   },
   "source": [
    "## Spark"
   ]
  },
  {
   "cell_type": "markdown",
   "metadata": {
    "hidden": true
   },
   "source": [
    "## Obvibase (Online DataBase)"
   ]
  },
  {
   "cell_type": "markdown",
   "metadata": {
    "hidden": true
   },
   "source": [
    "## MySQL"
   ]
  },
  {
   "cell_type": "markdown",
   "metadata": {
    "hidden": true
   },
   "source": [
    "## GitHUB"
   ]
  },
  {
   "cell_type": "markdown",
   "metadata": {},
   "source": [
    "# Resources"
   ]
  },
  {
   "cell_type": "markdown",
   "metadata": {
    "heading_collapsed": true
   },
   "source": [
    "## Books"
   ]
  },
  {
   "cell_type": "markdown",
   "metadata": {
    "hidden": true
   },
   "source": [
    "- [Field Guide to Data Science (Online Book/Slides)](http://www.slideshare.net/BoozAllen/booz-allen-field-guide-to-data-science)\n",
    "- [Pattern Recognition & Machine Learning](http://users.isr.ist.utl.pt/~wurmd/Livros/school/Bishop%20-%20Pattern%20Recognition%20And%20Machine%20Learning%20-%20Springer%20%202006.pdf)\n",
    "- Coding the Matrix: Linear Algebra through CS Applications by: Philip N. Klein\n",
    "- Introduciton to Data Mining by: Pang-Ning Tan & Others\n",
    "- The Element of Statistical Learning: Data Mining, Inference, & Prediciton 2nd Ed. by: Trevor Hastie & Others"
   ]
  },
  {
   "cell_type": "markdown",
   "metadata": {},
   "source": [
    "## Online"
   ]
  },
  {
   "cell_type": "markdown",
   "metadata": {
    "heading_collapsed": true
   },
   "source": [
    "### Sites"
   ]
  },
  {
   "cell_type": "markdown",
   "metadata": {
    "hidden": true
   },
   "source": [
    "- [Analytics Vidhya](https://www.analyticsvidhya.com/)\n",
    "    - [A Complete Tutorial to Learn Data Science with Python from Scratch](https://www.analyticsvidhya.com/blog/2016/01/complete-tutorial-learn-data-science-python-scratch-2/)\n",
    "- [Data Dependence](http://www.datadependence.com/)\n",
    "    - [An Introduction to Scientific Python – Pandas](http://www.datadependence.com/2016/05/scientific-python-pandas/)\n",
    "    - [An Introduction to Scientific Python – NumPy](http://www.datadependence.com/2016/05/scientific-python-numpy/)\n",
    "    - [An Introduction to Scientific Python – Matplotlib](http://www.datadependence.com/2016/04/scientific-python-matplotlib/)\n",
    "- [Becoming a Data Scientist](http://www.becomingadatascientist.com/)\n",
    "- [The Field Guide to Data Science](http://www.slideshare.net/BoozAllen/booz-allen-field-guide-to-data-science)\n",
    "- [Leet Code](https://leetcode.com)\n",
    "- [Open Source Society University](https://github.com/S-Suren/data-science)\n",
    "- Long Pandas Tutorial\n",
    "    - [Intro to Pandas](http://nbviewer.jupyter.org/github/fonnesbeck/Bios8366/blob/master/notebooks/Section2_1-Introduction-to-Pandas.ipynb)\n",
    "    - [Data Wrangling with Pandas](http://nbviewer.jupyter.org/github/fonnesbeck/Bios8366/blob/master/notebooks/Section2_2-Data-Wrangling-with-Pandas.ipynb)\n",
    "    - [Plotting and Visualization in Python](http://nbviewer.jupyter.org/github/fonnesbeck/Bios8366/blob/master/notebooks/Section2_3-Plotting-and-Visualization.ipynb)\n",
    "- [Top 8 resources for Pandas](http://www.dataschool.io/best-python-pandas-resources/)\n",
    "- [Sebastian Raschka Resources](https://sebastianraschka.com/notebooks/python-notebooks.html)"
   ]
  },
  {
   "cell_type": "markdown",
   "metadata": {
    "heading_collapsed": true
   },
   "source": [
    "### EDX"
   ]
  },
  {
   "cell_type": "markdown",
   "metadata": {
    "hidden": true
   },
   "source": []
  },
  {
   "cell_type": "markdown",
   "metadata": {
    "heading_collapsed": true
   },
   "source": [
    "### Udacity"
   ]
  },
  {
   "cell_type": "markdown",
   "metadata": {
    "hidden": true
   },
   "source": [
    "- Intro to Computer Science (Build a Search Engine & a Social Network) (Georgia Tech?)"
   ]
  },
  {
   "cell_type": "markdown",
   "metadata": {
    "heading_collapsed": true
   },
   "source": [
    "### Coursera"
   ]
  },
  {
   "cell_type": "markdown",
   "metadata": {
    "hidden": true
   },
   "source": [
    "- Machine Learning by: Andrew Ng (Stanford University)"
   ]
  },
  {
   "cell_type": "markdown",
   "metadata": {
    "heading_collapsed": true
   },
   "source": [
    "# Other"
   ]
  },
  {
   "cell_type": "markdown",
   "metadata": {
    "hidden": true
   },
   "source": [
    "## Getting Data"
   ]
  },
  {
   "cell_type": "markdown",
   "metadata": {
    "hidden": true
   },
   "source": [
    "\n",
    "- [Free Data](https://www.data.gov/)\n",
    "    - Government resource full of varying and free data.\n",
    "- [Selector Gadget](http://selectorgadget.com/)\n",
    "    - Aids in Web Scrapping\n",
    "- [UCI Machine Learning Repository](https://archive.ics.uci.edu/ml/)\n",
    "- [Census](https://.census.gov)\n",
    "- [Reddit /r/datasets](https://www.reddit.com/r/datasets/)\n",
    "- [Quandl]()\n",
    "- []()"
   ]
  },
  {
   "cell_type": "markdown",
   "metadata": {
    "hidden": true
   },
   "source": [
    "## Important things to know"
   ]
  },
  {
   "cell_type": "markdown",
   "metadata": {
    "hidden": true
   },
   "source": [
    "### Algorithms (Know the tradeoffs in applying them.)"
   ]
  },
  {
   "cell_type": "markdown",
   "metadata": {
    "hidden": true
   },
   "source": [
    "- Linear Regression\n",
    "- Logistic Regression\n",
    "- K-Means\n",
    "- K-Nearest Neighbors/Clusterings\n",
    "    - Picks up non-linear trends in data"
   ]
  },
  {
   "cell_type": "markdown",
   "metadata": {
    "hidden": true
   },
   "source": [
    "### Data Cleaning\n",
    "- 90% of work"
   ]
  },
  {
   "cell_type": "markdown",
   "metadata": {
    "hidden": true
   },
   "source": [
    "### Communication\n",
    "- Explaining results efficiently"
   ]
  },
  {
   "cell_type": "markdown",
   "metadata": {
    "hidden": true
   },
   "source": [
    "### Systems\n",
    "- Writing faster-running code\n",
    "- Scaling to multiple machines"
   ]
  },
  {
   "cell_type": "markdown",
   "metadata": {
    "hidden": true
   },
   "source": [
    "### Tips\n",
    "- \"Tour\" of Data Method\n",
    "    - Gather all the variables in data set and map dimensions together in various combination and view the plots physically. Then look for interesting trends.\n",
    "- Go to programming meetups\n",
    "- Work on projects\n",
    "- Go to hackathons"
   ]
  },
  {
   "cell_type": "code",
   "execution_count": null,
   "metadata": {
    "collapsed": true,
    "hidden": true
   },
   "outputs": [],
   "source": []
  }
 ],
 "metadata": {
  "anaconda-cloud": {},
  "kernelspec": {
   "display_name": "Python [default]",
   "language": "python",
   "name": "python3"
  },
  "language_info": {
   "codemirror_mode": {
    "name": "ipython",
    "version": 3
   },
   "file_extension": ".py",
   "mimetype": "text/x-python",
   "name": "python",
   "nbconvert_exporter": "python",
   "pygments_lexer": "ipython3",
   "version": "3.5.2"
  },
  "toc": {
   "colors": {
    "hover_highlight": "#DAA520",
    "running_highlight": "#FF0000",
    "selected_highlight": "#FFD700"
   },
   "moveMenuLeft": true,
   "nav_menu": {
    "height": "511px",
    "width": "252px"
   },
   "navigate_menu": true,
   "number_sections": true,
   "sideBar": true,
   "threshold": 4,
   "toc_cell": false,
   "toc_section_display": "block",
   "toc_window_display": false
  }
 },
 "nbformat": 4,
 "nbformat_minor": 1
}
