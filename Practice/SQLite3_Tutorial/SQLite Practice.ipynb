{
 "cells": [
  {
   "cell_type": "markdown",
   "metadata": {},
   "source": [
    "# SQLite\n",
    "- [Python 3 SQLite Sentdex Tutorial](https://pythonprogramming.net/sql-database-python-part-1-inserting-database/)"
   ]
  },
  {
   "cell_type": "code",
   "execution_count": null,
   "metadata": {
    "collapsed": true
   },
   "outputs": [],
   "source": []
  },
  {
   "cell_type": "markdown",
   "metadata": {},
   "source": [
    "## Introduction"
   ]
  },
  {
   "cell_type": "code",
   "execution_count": 1,
   "metadata": {
    "collapsed": true
   },
   "outputs": [],
   "source": [
    "import sqlite3\n",
    "import time\n",
    "import datetime as dt\n",
    "import random\n",
    "import pprint as pr\n",
    "\n",
    "import praw\n",
    "import reddit_creds as rc"
   ]
  },
  {
   "cell_type": "markdown",
   "metadata": {},
   "source": [
    "An object, `conn` in this case, is created to associate with a `database.db`. Also a *cursor* is defined\n",
    "\n",
    "- `sqlite3.connect('database_name.db')`\n",
    "- `sqlite3.connect('database_name.db).cursor()`"
   ]
  },
  {
   "cell_type": "code",
   "execution_count": 2,
   "metadata": {
    "collapsed": false
   },
   "outputs": [
    {
     "name": "stdout",
     "output_type": "stream",
     "text": [
      "'Database connection created!'\n"
     ]
    }
   ],
   "source": [
    "# If the `db` doesn't exist, it will be created.\n",
    "conn = sqlite3.connect('tutorial.db')\n",
    "c = conn.cursor()\n",
    "pr.pprint('Database connection created!')"
   ]
  },
  {
   "cell_type": "markdown",
   "metadata": {},
   "source": [
    "Writing SQL Statements in Python3\n",
    "\n",
    "- via the `execute()` method\n",
    "- `conn.execute('sql_statements')`"
   ]
  },
  {
   "cell_type": "markdown",
   "metadata": {},
   "source": [
    "## Some basic SQLite operations in Python"
   ]
  },
  {
   "cell_type": "markdown",
   "metadata": {},
   "source": [
    "### Creating a Table"
   ]
  },
  {
   "cell_type": "code",
   "execution_count": 47,
   "metadata": {
    "collapsed": false,
    "scrolled": true
   },
   "outputs": [
    {
     "name": "stdout",
     "output_type": "stream",
     "text": [
      "'Table Created!'\n"
     ]
    }
   ],
   "source": [
    "def create_table():\n",
    "    c.execute(\"CREATE TABLE IF NOT EXISTS redditUser_1_2(id TXT PRIMARY KEY UNIQUE,\" \n",
    "                                                        \"username TEXT UNIQUE,\"\n",
    "                                                        \"actCreated REAL NOT NULL,\"\n",
    "                                                        \"cKarma INT NOT NULL,\"\n",
    "                                                        \"lKarma INT NOT NULL)\")\n",
    "    pr.pprint('Table Created!')\n",
    "    \n",
    "create_table()"
   ]
  },
  {
   "cell_type": "markdown",
   "metadata": {},
   "source": [
    "### Data Entry Into Table\n",
    "\n",
    "- `INSERT INTO Table_Name(Column_Names)`\n",
    "- `VALUES(Values_to_be_Inserted)`"
   ]
  },
  {
   "cell_type": "code",
   "execution_count": 8,
   "metadata": {
    "collapsed": false
   },
   "outputs": [
    {
     "name": "stdout",
     "output_type": "stream",
     "text": [
      "Data Entered!\n"
     ]
    }
   ],
   "source": [
    "def data_entry():\n",
    "    c.execute(\"INSERT INTO redditUser VALUES('lji02', 'Nazi_Ganesh', 1424707173.0, 3762, 251)\")\n",
    "    conn.commit()\n",
    "    print('Data Entered!')\n",
    "\n",
    "data_entry()"
   ]
  },
  {
   "cell_type": "markdown",
   "metadata": {},
   "source": [
    "### Dynamic Data Entry"
   ]
  },
  {
   "cell_type": "code",
   "execution_count": 10,
   "metadata": {
    "collapsed": true
   },
   "outputs": [],
   "source": [
    "# Reddit Instance\n",
    "uag = 'reddit_crawl_script:v1.0.0 (/u/Nazi_Ganesh)'\n",
    "rd = praw.Reddit(check_for_updates = True,\n",
    "                 client_id = rc.cid,\n",
    "                 client_secret = rc.sec,\n",
    "                 user_agent = uag,\n",
    "                 username = rc.usr,\n",
    "                 password = rc.psw)\n",
    "\n"
   ]
  },
  {
   "cell_type": "code",
   "execution_count": 12,
   "metadata": {
    "collapsed": true
   },
   "outputs": [],
   "source": [
    "redd_usr = rd.redditor('Darzin')\n",
    "usrID = redd_usr.id\n",
    "usrName = redd_usr.name\n",
    "cUTC = redd_usr.created_utc\n",
    "cKar = redd_usr.comment_karma\n",
    "lKar = redd_usr.link_karma"
   ]
  },
  {
   "cell_type": "code",
   "execution_count": 57,
   "metadata": {
    "collapsed": false
   },
   "outputs": [],
   "source": [
    "def dynamic_data_entry():\n",
    "    redd_usr = rd.redditor('Nazi_Ganesh')\n",
    "    usrID = redd_usr.id\n",
    "    usrName = redd_usr.name\n",
    "    cUTC = redd_usr.created_utc\n",
    "    cKar = redd_usr.comment_karma\n",
    "    lKar = redd_usr.link_karma\n",
    "    c.execute(\"INSERT INTO redditUser_1_2 (id, userName, actCreated, cKarma, lKarma) VALUES(?, ?, ?, ?, ?)\",\n",
    "              (usrID, usrName, cUTC, cKar, lKar))\n",
    "    conn.commit()\n",
    "    \n",
    "dynamic_data_entry()"
   ]
  },
  {
   "cell_type": "code",
   "execution_count": 64,
   "metadata": {
    "collapsed": false
   },
   "outputs": [
    {
     "name": "stdout",
     "output_type": "stream",
     "text": [
      "t5_2qh33\n"
     ]
    }
   ],
   "source": [
    "yty = redd_usr.submissions.top(limit=10).next()\n",
    "print(yty.subreddit_id"
   ]
  },
  {
   "cell_type": "markdown",
   "metadata": {},
   "source": [
    "### Reading from a `db`"
   ]
  },
  {
   "cell_type": "code",
   "execution_count": 42,
   "metadata": {
    "collapsed": false
   },
   "outputs": [
    {
     "data": {
      "text/plain": [
       "0"
      ]
     },
     "execution_count": 42,
     "metadata": {},
     "output_type": "execute_result"
    }
   ],
   "source": [
    "trt = 'Nazi_Ganeshsd'\n",
    "def read_from_db(usr):\n",
    "    c.execute(\"SELECT userName, cKarma FROM redditUser WHERE userName=(?)\", (usr,))\n",
    "    return c.fetchall()\n",
    "    \n",
    "len(read_from_db(trt))"
   ]
  },
  {
   "cell_type": "code",
   "execution_count": null,
   "metadata": {
    "collapsed": true
   },
   "outputs": [],
   "source": [
    "c.close()\n",
    "conn.close()"
   ]
  }
 ],
 "metadata": {
  "kernelspec": {
   "display_name": "Python 3",
   "language": "python",
   "name": "python3"
  },
  "language_info": {
   "codemirror_mode": {
    "name": "ipython",
    "version": 3
   },
   "file_extension": ".py",
   "mimetype": "text/x-python",
   "name": "python",
   "nbconvert_exporter": "python",
   "pygments_lexer": "ipython3",
   "version": "3.5.2"
  }
 },
 "nbformat": 4,
 "nbformat_minor": 2
}
