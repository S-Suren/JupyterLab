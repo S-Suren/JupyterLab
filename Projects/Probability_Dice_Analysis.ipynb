{
 "cells": [
  {
   "cell_type": "markdown",
   "metadata": {
    "extensions": {
     "jupyter_dashboards": {
      "version": 1,
      "views": {
       "grid_default": {
        "col": 0,
        "height": 5,
        "hidden": true,
        "row": 0,
        "width": 12
       },
       "report_default": {
        "hidden": false
       }
      }
     }
    },
    "nbpresent": {
     "id": "df75cfd7-77cb-42c1-92b6-f357871d9d96"
    },
    "toc": "true"
   },
   "source": [
    "# Table of Contents\n",
    " <p><div class=\"lev1 toc-item\"><a href=\"#Analysis-of-dice-rolls.\" data-toc-modified-id=\"Analysis-of-dice-rolls.-1\"><span class=\"toc-item-num\">1&nbsp;&nbsp;</span>Analysis of dice rolls.</a></div><div class=\"lev1 toc-item\"><a href=\"#Playing-with-Widgets\" data-toc-modified-id=\"Playing-with-Widgets-2\"><span class=\"toc-item-num\">2&nbsp;&nbsp;</span>Playing with Widgets</a></div>"
   ]
  },
  {
   "cell_type": "markdown",
   "metadata": {
    "extensions": {
     "jupyter_dashboards": {
      "version": 1,
      "views": {
       "grid_default": {
        "col": 0,
        "height": 4,
        "hidden": true,
        "row": 0,
        "width": 4
       },
       "report_default": {
        "hidden": false
       }
      }
     }
    },
    "nbpresent": {
     "id": "6efe2207-6e54-403d-8664-37b9a9ee5900"
    }
   },
   "source": [
    "# Analysis of dice rolls."
   ]
  },
  {
   "cell_type": "code",
   "execution_count": 1,
   "metadata": {
    "ExecuteTime": {
     "end_time": "2017-01-16T14:56:57.502894",
     "start_time": "2017-01-16T14:56:56.174022"
    },
    "collapsed": false,
    "extensions": {
     "jupyter_dashboards": {
      "version": 1,
      "views": {
       "grid_default": {
        "hidden": true
       },
       "report_default": {
        "hidden": true
       }
      }
     }
    },
    "nbpresent": {
     "id": "142bd33a-f5dc-4389-b958-0604f86795b4"
    }
   },
   "outputs": [],
   "source": [
    "import numpy as np\n",
    "import seaborn as sns\n",
    "import matplotlib.pyplot as plt\n",
    "\n",
    "from ipywidgets import widgets, interact"
   ]
  },
  {
   "cell_type": "raw",
   "metadata": {
    "extensions": {
     "jupyter_dashboards": {
      "version": 1,
      "views": {
       "grid_default": {
        "hidden": true
       },
       "report_default": {
        "hidden": false
       }
      }
     }
    },
    "nbpresent": {
     "id": "d27c514f-53c4-4318-9571-02fccefdce72"
    }
   },
   "source": []
  },
  {
   "cell_type": "markdown",
   "metadata": {
    "extensions": {
     "jupyter_dashboards": {
      "version": 1,
      "views": {
       "grid_default": {
        "col": 0,
        "height": 7,
        "hidden": true,
        "row": 0,
        "width": 12
       },
       "report_default": {
        "hidden": false
       }
      }
     }
    },
    "nbpresent": {
     "id": "be304878-f90e-444e-be56-fadc29631adf"
    }
   },
   "source": [
    "- Create a dice.\n",
    "    - Default: 6 side, but can be n > 2 sides.\n",
    "    - Output: An `Int`\n",
    "- Create a Trial\n",
    "    - Default: 100 rolls, but can be n.\n",
    "    - Output:\n",
    "        - rollsList: Array with all of the roll results.\n",
    "        - cumltList: Array with the cumulative probability."
   ]
  },
  {
   "cell_type": "code",
   "execution_count": 2,
   "metadata": {
    "ExecuteTime": {
     "end_time": "2017-01-16T14:56:57.578445",
     "start_time": "2017-01-16T14:56:57.505898"
    },
    "collapsed": false,
    "extensions": {
     "jupyter_dashboards": {
      "version": 1,
      "views": {
       "grid_default": {
        "hidden": true
       },
       "report_default": {
        "hidden": true
       }
      }
     }
    },
    "nbpresent": {
     "id": "9614ae63-cece-4469-9a3b-c29041249871"
    }
   },
   "outputs": [],
   "source": [
    "def dice(num_of_sides = 6, loaded_num = 1, loaded_weight = 1):\n",
    "    '''\n",
    "    Virtual dice with output of a side. Default is an equally weighted dice. \n",
    "    Input:\n",
    "         num_of_sides: Number of sides for the dice. (Default = 6)\n",
    "         loaded_num  : The number that is biased or \"loaded\". (Default = 1)\n",
    "         loaded_wght : Number used to get loaded weight. (Default = 1)\n",
    "                       For equal weight distribution, the loaded number has\n",
    "                       the same probability as any other dice number. (1/6, 1/3,..., 1/n) \n",
    "    \n",
    "    Output: Int value corresponding to a side of the dice.\n",
    "    \n",
    "    Example:\n",
    "        [dice(10, 7, 9) for output in range(20)] -> [7, 7, 7, 3, 7, 7, 7, 7, 7, 7, 7, 8, 7, 7, 7, 7, 1, 7, 7, 7]\n",
    "        [dice(6, 5, 3) for output in range(20)] -> [5, 5, 6, 5, 6, 5, 2, 6, 5, 2, 4, 6, 6, 5, 2, 3, 5, 5, 6, 5]\n",
    "    '''\n",
    "    \n",
    "    if loaded_num > num_of_sides:\n",
    "        raise ValueError('The loaded number chosen is greater than the total number of sides on the dice!')\n",
    "    elif loaded_weight > num_of_sides:\n",
    "        raise ValueError('The loaded weight chosen is greater than the total number of sides on the dice!')\n",
    "    elif num_of_sides < 1:\n",
    "        raise ValueError('Total number of sides is less than one!')\n",
    "            \n",
    "    sides = [num for num in range(1, num_of_sides+1)]\n",
    "    return np.random.choice(sides, p=wght(num_of_sides, loaded_num, loaded_weight))\n",
    "\n",
    "\n",
    "def wght(num_of_sides = 6, loaded_num = 1, loaded_weight = 1):\n",
    "    '''\n",
    "     Weight function for the probabilities of a side on a roll.\n",
    "     Input:\n",
    "         num_of_sides: Number of sides for the dice. (Default = 6)\n",
    "         loaded_num  : The number that is biased or \"loaded\". (Default = 1)\n",
    "         loaded_wght : Number used to get loaded weight. (Default = 1)\n",
    "                       For equal weight distribution, the loaded number has\n",
    "                       the same probability as any other dice number. (1/6, 1/3,..., 1/n)\n",
    "     \n",
    "     Output: List of corresponding weights for each side.\n",
    "     \n",
    "     Example:\n",
    "         Dice with 10 sides, loaded number to be 4, and the loaded weight to be \n",
    "         the chance of 3/10(rather than 1/10): \n",
    "         \n",
    "         wght(10, 4, 3) -> [0.07777777777777778, 0.07777777777777778, 0.07777777777777778,\n",
    "                            0.3,0.07777777777777778, 0.07777777777777778, 0.07777777777777778, 0.07777777777777778,\n",
    "                            0.07777777777777778, 0.07777777777777778]\n",
    "    '''\n",
    "    \n",
    "    if loaded_weight == 1:\n",
    "        return [1/num_of_sides]*len(range(num_of_sides))\n",
    "    \n",
    "    ld_wght = loaded_weight/num_of_sides\n",
    "    wght_list = [(1-ld_wght)/(num_of_sides-1)]*len(range(num_of_sides))\n",
    "    wght_list[loaded_num-1] = ld_wght\n",
    "    \n",
    "    return wght_list\n",
    "\n",
    "\n",
    "def trials(num_of_trials=100, num_of_sides=6, loaded_num=1, loaded_weight=1):\n",
    "    '''\n",
    "    Trials consisting of a specified number of time the dice will be rolled. Output gives\n",
    "    a list of all the rolled values and a list of cumulative proportion per roll.\n",
    "    \n",
    "    Input:\n",
    "         num_of_trials: Number of rolls. (Default = 100)\n",
    "         num_of_sides : Number of sides for the dice. (Default = 6)\n",
    "         loaded_num   : The number that is biased or \"loaded\". (Default = 1)\n",
    "         loaded_wght  : Number used to get loaded weight. (Default = 1)\n",
    "                       For equal weight distribution, the loaded number has\n",
    "                       the same probability as any other dice number. (1/6, 1/3,..., 1/n)\n",
    "    Output: (In this order.)\n",
    "         rollsList: List of rolled values. Length equal to the num_of_trials input.\n",
    "         cumltList: List of cumulative proportion per roll. \n",
    "    '''\n",
    "\n",
    "    sides = list(range(1, num_of_sides+1))\n",
    "    rollsList = []\n",
    "    \n",
    "    cumltList = [[] for side in range(num_of_sides)]\n",
    "    cumlt     = [0 for side in range(num_of_sides)]\n",
    "    \n",
    "    for trial in range(num_of_trials):\n",
    "        roll = dice(num_of_sides, loaded_num, loaded_weight)\n",
    "        rollsList.append(roll)\n",
    "        \n",
    "        for side in sides:\n",
    "            if roll == side:\n",
    "                cumlt[side-1] += 1\n",
    "                \n",
    "            cumltList[side-1].append(cumlt[side-1]/(trial+1))\n",
    "            \n",
    "    return rollsList, cumltList\n"
   ]
  },
  {
   "cell_type": "code",
   "execution_count": 3,
   "metadata": {
    "ExecuteTime": {
     "end_time": "2017-01-16T14:56:57.705028",
     "start_time": "2017-01-16T14:56:57.581947"
    },
    "code_folding": [],
    "collapsed": false,
    "extensions": {
     "jupyter_dashboards": {
      "version": 1,
      "views": {
       "grid_default": {
        "hidden": true
       },
       "report_default": {
        "hidden": true
       }
      }
     }
    },
    "nbpresent": {
     "id": "e133c897-f72d-41c6-856b-8f6a96a39126"
    },
    "scrolled": false
   },
   "outputs": [],
   "source": [
    "def simu_dice(num_of_trials = 100, num_of_sides = 6, loaded_num = 1, loaded_wght = 1, \\\n",
    "              plt_style = 'seaborn-ticks', cuml_tot = True, ret = False):\n",
    "    rolls, cuml = trials(num_of_trials, num_of_sides, loaded_num, loaded_wght)\n",
    "\n",
    "    plt.style.use(style=plt_style) \n",
    "    \n",
    "    if cuml_tot is True:\n",
    "        for side in cuml:\n",
    "            ax = plt.plot(np.array([num+1 for num in range(len(rolls))]), np.array(side), \\\n",
    "                          label = 'Side {}'.format(cuml.index(side) + 1))    \n",
    "    else:\n",
    "        ax = plt.plot(np.array([num+1 for num in range(len(rolls))]), np.array(cuml[loaded_num-1]), \\\n",
    "                          label = 'Side {}'.format(cuml.index(cuml[loaded_num-1]) + 1))\n",
    "        \n",
    "        \n",
    "    ax = plt.plot([num+1 for num in range(len(rolls))], np.array([1/num_of_sides]*len(rolls)), \\\n",
    "                       color = 'k', linewidth = 2, label = 'Theoretical \\n Probability')\n",
    "    ax = plt.title(plt_style)\n",
    "    ax = plt.legend()\n",
    "    ax = plt.ylim(0.0, 1.0)\n",
    "    ax = plt.xlabel('# of Trials')\n",
    "    ax = plt.ylabel('Cumulative Proportions')\n",
    "    \n",
    "    plt.show()\n",
    "    \n",
    "    if ret is True:\n",
    "        return rolls, cuml"
   ]
  },
  {
   "cell_type": "code",
   "execution_count": 4,
   "metadata": {
    "ExecuteTime": {
     "end_time": "2017-01-16T14:56:58.258896",
     "start_time": "2017-01-16T14:56:57.707531"
    },
    "collapsed": false,
    "extensions": {
     "jupyter_dashboards": {
      "version": 1,
      "views": {
       "grid_default": {
        "col": 2,
        "height": 18,
        "hidden": false,
        "row": 0,
        "width": 9
       },
       "report_default": {
        "hidden": false
       }
      }
     }
    },
    "nbpresent": {
     "id": "68bcc35e-50dd-4a54-b965-5f06a121e5ea"
    }
   },
   "outputs": [
    {
     "data": {
      "image/png": "[encoded data removed]",
      "text/plain": [
       "<matplotlib.figure.Figure at 0x29bab52e780>"
      ]
     },
     "metadata": {},
     "output_type": "display_data"
    }
   ],
   "source": [
    "num_of_sides  = widgets.IntSlider(6, 1, 25, 1)\n",
    "\n",
    "interact(simu_dice, \\\n",
    "        num_of_sides  = widgets.IntSlider(6, 1, 25, 1)                                 ,\\\n",
    "        num_of_trials = widgets.IntSlider(100, 0, 100000, 100)                         ,\\\n",
    "        loaded_num    = widgets.IntSlider(1, 1, num_of_sides.max, 1)                   ,\\\n",
    "        loaded_wght   = widgets.IntSlider(1, 1, num_of_sides.max, 1)                   ,\\\n",
    "        plt_style     = tuple(style for style in plt.style.available) ,\\\n",
    "        cuml_tot      = True                                          ,\\\n",
    "        ret           = widgets.fixed(False)\n",
    "        );"
   ]
  },
  {
   "cell_type": "markdown",
   "metadata": {
    "extensions": {
     "jupyter_dashboards": {
      "version": 1,
      "views": {
       "grid_default": {
        "col": 4,
        "height": 4,
        "hidden": true,
        "row": 0,
        "width": 4
       },
       "report_default": {
        "hidden": false
       }
      }
     }
    },
    "nbpresent": {
     "id": "eb4a3f58-9690-41f5-97f7-ca036c794fdb"
    }
   },
   "source": [
    "# Playing with Widgets"
   ]
  },
  {
   "cell_type": "code",
   "execution_count": 5,
   "metadata": {
    "ExecuteTime": {
     "end_time": "2017-01-16T14:56:58.263898",
     "start_time": "2017-01-16T14:56:58.260898"
    },
    "collapsed": false,
    "extensions": {
     "jupyter_dashboards": {
      "version": 1,
      "views": {
       "grid_default": {
        "hidden": true
       },
       "report_default": {
        "hidden": true
       }
      }
     }
    },
    "nbpresent": {
     "id": "daf3feb9-1c25-47cf-a616-1d57de043430"
    }
   },
   "outputs": [],
   "source": [
    "from ipywidgets import widgets\n",
    "from ipywidgets import interact\n",
    "from IPython.display import display"
   ]
  },
  {
   "cell_type": "code",
   "execution_count": 6,
   "metadata": {
    "ExecuteTime": {
     "end_time": "2017-01-16T14:56:58.377474",
     "start_time": "2017-01-16T14:56:58.265901"
    },
    "collapsed": false,
    "extensions": {
     "jupyter_dashboards": {
      "version": 1,
      "views": {
       "grid_default": {
        "hidden": true
       },
       "report_default": {
        "hidden": false
       }
      }
     }
    },
    "nbpresent": {
     "id": "dcee6dac-7f1e-46f8-8809-ef87b520a975"
    }
   },
   "outputs": [],
   "source": [
    "text = widgets.Text()\n",
    "display(text)\n",
    "\n",
    "def handle_submit(sender):\n",
    "    print('Butters')\n",
    "    \n",
    "text.on_submit(handle_submit)"
   ]
  },
  {
   "cell_type": "code",
   "execution_count": 7,
   "metadata": {
    "ExecuteTime": {
     "end_time": "2017-01-16T14:56:58.528074",
     "start_time": "2017-01-16T14:56:58.380476"
    },
    "collapsed": false,
    "extensions": {
     "jupyter_dashboards": {
      "version": 1,
      "views": {
       "grid_default": {
        "hidden": true
       },
       "report_default": {
        "hidden": false
       }
      }
     }
    },
    "nbpresent": {
     "id": "d0105869-f429-48c0-a227-f911a3c284a2"
    }
   },
   "outputs": [],
   "source": [
    "button = widgets.Button(description = 'Click me!')\n",
    "display(button)\n",
    "\n",
    "def on_button_click(b):\n",
    "    print('Button clicked!')\n",
    "    \n",
    "button.on_click(on_button_click)"
   ]
  },
  {
   "cell_type": "code",
   "execution_count": 8,
   "metadata": {
    "ExecuteTime": {
     "end_time": "2017-01-16T14:56:58.729207",
     "start_time": "2017-01-16T14:56:58.534077"
    },
    "collapsed": false,
    "extensions": {
     "jupyter_dashboards": {
      "version": 1,
      "views": {
       "grid_default": {
        "hidden": true
       },
       "report_default": {
        "hidden": false
       }
      }
     }
    },
    "nbpresent": {
     "id": "16d8b75e-e0ef-42bf-a17d-13ed16a00d52"
    }
   },
   "outputs": [
    {
     "name": "stdout",
     "output_type": "stream",
     "text": [
      "Suren\n",
      "Butters\n"
     ]
    }
   ],
   "source": [
    "def f(x, y):\n",
    "    print(x)\n",
    "    print(y)\n",
    "    \n",
    "sld = interact(f, x=100, y=50)\n",
    "chk = interact(f, x=True, y=False)\n",
    "txt = interact(f, x='Suren', y='Butters') "
   ]
  },
  {
   "cell_type": "code",
   "execution_count": 9,
   "metadata": {
    "ExecuteTime": {
     "end_time": "2017-01-16T14:56:58.748719",
     "start_time": "2017-01-16T14:56:58.731208"
    },
    "collapsed": true,
    "extensions": {
     "jupyter_dashboards": {
      "version": 1,
      "views": {
       "grid_default": {
        "hidden": true
       },
       "report_default": {
        "hidden": false
       }
      }
     }
    },
    "nbpresent": {
     "id": "f84a6726-e5ca-4d9e-82ec-e87d102c6d6b"
    }
   },
   "outputs": [],
   "source": [
    "outputText = widgets.Text()\n",
    "outputText"
   ]
  },
  {
   "cell_type": "code",
   "execution_count": 10,
   "metadata": {
    "ExecuteTime": {
     "end_time": "2017-01-16T14:56:58.861548",
     "start_time": "2017-01-16T14:56:58.750222"
    },
    "collapsed": true,
    "extensions": {
     "jupyter_dashboards": {
      "version": 1,
      "views": {
       "grid_default": {
        "hidden": true
       },
       "report_default": {
        "hidden": false
       }
      }
     }
    },
    "nbpresent": {
     "id": "3a986d4f-c3e9-4022-85eb-ab7a7234691f"
    }
   },
   "outputs": [],
   "source": [
    "inputText = widgets.Text()\n",
    "\n",
    "def makeUpperCase(sender):\n",
    "    outputText.value = inputText.value.upper()\n",
    "    \n",
    "inputText.on_submit(makeUpperCase)\n",
    "inputText"
   ]
  },
  {
   "cell_type": "code",
   "execution_count": 11,
   "metadata": {
    "ExecuteTime": {
     "end_time": "2017-01-16T14:56:59.211779",
     "start_time": "2017-01-16T14:56:58.866052"
    },
    "collapsed": false,
    "extensions": {
     "jupyter_dashboards": {
      "version": 1,
      "views": {
       "grid_default": {
        "hidden": true
       },
       "report_default": {
        "hidden": false
       }
      }
     }
    },
    "nbpresent": {
     "id": "bf9bc2df-ea33-4c89-ba6b-68fedbde78df"
    }
   },
   "outputs": [
    {
     "data": {
      "image/png": "[encoded data removed]",
      "text/plain": [
       "<matplotlib.figure.Figure at 0x29baad71a58>"
      ]
     },
     "metadata": {},
     "output_type": "display_data"
    },
    {
     "data": {
      "text/plain": [
       "<function __main__.pltSin>"
      ]
     },
     "execution_count": 11,
     "metadata": {},
     "output_type": "execute_result"
    }
   ],
   "source": [
    "t = np.arange(0.0, 1.1, .01)\n",
    "\n",
    "def pltSin(A, f):\n",
    "    plt.plot(t, A*np.sin(2*np.pi*t*f))\n",
    "    plt.axis([0, 1, -10, 10])\n",
    "    plt.autoscale(False)\n",
    "    plt.show()\n",
    "\n",
    "\n",
    "interact(pltSin, A = widgets.IntSlider(1, 0, 10, 1), f = widgets.FloatSlider(1, min=0, max=10, step=1))"
   ]
  }
 ],
 "metadata": {
  "anaconda-cloud": {},
  "extensions": {
   "jupyter_dashboards": {
    "activeView": "grid_default",
    "version": 1,
    "views": {
     "grid_default": {
      "cellMargin": 10,
      "defaultCellHeight": 20,
      "maxColumns": 12,
      "name": "grid",
      "type": "grid"
     },
     "report_default": {
      "name": "report",
      "type": "report"
     }
    }
   }
  },
  "kernelspec": {
   "display_name": "Python [default]",
   "language": "python",
   "name": "python3"
  },
  "language_info": {
   "codemirror_mode": {
    "name": "ipython",
    "version": 3
   },
   "file_extension": ".py",
   "mimetype": "text/x-python",
   "name": "python",
   "nbconvert_exporter": "python",
   "pygments_lexer": "ipython3",
   "version": "3.5.2"
  },
  "toc": {
   "colors": {
    "hover_highlight": "#DAA520",
    "running_highlight": "#FF0000",
    "selected_highlight": "#FFD700"
   },
   "moveMenuLeft": true,
   "nav_menu": {
    "height": "227px",
    "width": "237px"
   },
   "navigate_menu": true,
   "number_sections": true,
   "sideBar": true,
   "threshold": 4,
   "toc_cell": true,
   "toc_position": {
    "height": "420px",
    "left": "0px",
    "right": "951px",
    "top": "70px",
    "width": "62px"
   },
   "toc_section_display": "block",
   "toc_window_display": true
  },
  "widgets": {
   "state": {
    "20b14904a0f8472bb9edb396040da687": {
     "views": [
      {
       "cell_index": 10
      }
     ]
    },
    "297701080b934bd0be8805e952b3cc44": {
     "views": [
      {
       "cell_index": 12
      }
     ]
    },
    "2e0323af8103429ca88cb22e407258ae": {
     "views": [
      {
       "cell_index": 11
      }
     ]
    },
    "3b332f29628741ada965fddd413228a9": {
     "views": [
      {
       "cell_index": 12
      }
     ]
    },
    "5f0236e30b1a45aa9ddd199eeaaf7a47": {
     "views": [
      {
       "cell_index": 7
      }
     ]
    },
    "804ddfef374a4964af4df949e45d2821": {
     "views": [
      {
       "cell_index": 12
      }
     ]
    },
    "c88bc979e27c49b3b77ca83b429ee0e0": {
     "views": [
      {
       "cell_index": 15
      }
     ]
    },
    "d147202fff154b23b3a3aebc9d7430be": {
     "views": [
      {
       "cell_index": 13
      }
     ]
    },
    "fa8b199299394951944b383ca668adad": {
     "views": [
      {
       "cell_index": 14
      }
     ]
    }
   },
   "version": "1.2.0"
  }
 },
 "nbformat": 4,
 "nbformat_minor": 2
}
