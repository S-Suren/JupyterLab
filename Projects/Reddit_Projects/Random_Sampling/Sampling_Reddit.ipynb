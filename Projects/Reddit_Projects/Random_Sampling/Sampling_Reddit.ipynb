{
 "cells": [
  {
   "cell_type": "markdown",
   "metadata": {
    "toc": "true"
   },
   "source": [
    "# Table of Contents\n",
    " <p><div class=\"lev1 toc-item\"><a href=\"#Purpose\" data-toc-modified-id=\"Purpose-1\"><span class=\"toc-item-num\">1&nbsp;&nbsp;</span>Purpose</a></div><div class=\"lev1 toc-item\"><a href=\"#Sampling\" data-toc-modified-id=\"Sampling-2\"><span class=\"toc-item-num\">2&nbsp;&nbsp;</span>Sampling</a></div><div class=\"lev2 toc-item\"><a href=\"#Intial-Imports\" data-toc-modified-id=\"Intial-Imports-21\"><span class=\"toc-item-num\">2.1&nbsp;&nbsp;</span>Intial Imports</a></div>"
   ]
  },
  {
   "cell_type": "markdown",
   "metadata": {},
   "source": [
    "# Purpose"
   ]
  },
  {
   "cell_type": "markdown",
   "metadata": {},
   "source": [
    "Testing different sampling of Reddit. The target could be users, subreddits, or any Reddit related objects."
   ]
  },
  {
   "cell_type": "markdown",
   "metadata": {},
   "source": [
    "# Sampling"
   ]
  },
  {
   "cell_type": "markdown",
   "metadata": {},
   "source": [
    "## Intial Imports"
   ]
  },
  {
   "cell_type": "code",
   "execution_count": 1,
   "metadata": {
    "ExecuteTime": {
     "end_time": "2017-01-11T14:36:21.405014",
     "start_time": "2017-01-11T14:36:19.622050"
    },
    "collapsed": true
   },
   "outputs": [],
   "source": [
    "import reddit_creds as rc\n",
    "import praw\n",
    "\n",
    "import sqlite3 as s3\n",
    "import requests"
   ]
  },
  {
   "cell_type": "code",
   "execution_count": 4,
   "metadata": {
    "ExecuteTime": {
     "end_time": "2017-01-11T14:39:22.144071",
     "start_time": "2017-01-11T14:39:22.139568"
    },
    "collapsed": false
   },
   "outputs": [],
   "source": [
    "conn = s3.connect('redditSamplingDB.db')\n",
    "c = conn.cursor()\n",
    "\n"
   ]
  },
  {
   "cell_type": "code",
   "execution_count": 34,
   "metadata": {
    "ExecuteTime": {
     "end_time": "2017-01-11T20:38:05.149161",
     "start_time": "2017-01-11T20:38:05.141156"
    },
    "collapsed": false,
    "scrolled": true
   },
   "outputs": [
    {
     "data": {
      "text/plain": [
       "[24, 25, 26, 27, 28]"
      ]
     },
     "execution_count": 34,
     "metadata": {},
     "output_type": "execute_result"
    }
   ],
   "source": [
    "# [item for pair in zip([\"{:02d}\".format(i) for i in range(24)], ['flag']*24) for item in pair]\n",
    "\n",
    "z = zip([\"{:02}\".format(i) for i in range(10)], ['flag']*24)\n",
    "\n",
    "# [item for pair in z for item in pair]\n",
    "\n",
    "[num+24 for num in range(5)]"
   ]
  }
 ],
 "metadata": {
  "kernelspec": {
   "display_name": "Python 3",
   "language": "python",
   "name": "python3"
  },
  "language_info": {
   "codemirror_mode": {
    "name": "ipython",
    "version": 3
   },
   "file_extension": ".py",
   "mimetype": "text/x-python",
   "name": "python",
   "nbconvert_exporter": "python",
   "pygments_lexer": "ipython3",
   "version": "3.5.2"
  },
  "toc": {
   "colors": {
    "hover_highlight": "#DAA520",
    "running_highlight": "#FF0000",
    "selected_highlight": "#FFD700"
   },
   "moveMenuLeft": true,
   "nav_menu": {
    "height": "65px",
    "width": "251px"
   },
   "navigate_menu": true,
   "number_sections": true,
   "sideBar": true,
   "threshold": 4,
   "toc_cell": true,
   "toc_position": {
    "height": "696px",
    "left": "0px",
    "right": "422px",
    "top": "71px",
    "width": "100px"
   },
   "toc_section_display": "none",
   "toc_window_display": true
  }
 },
 "nbformat": 4,
 "nbformat_minor": 2
}
