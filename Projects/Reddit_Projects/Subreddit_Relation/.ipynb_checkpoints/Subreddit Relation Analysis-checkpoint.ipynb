{
 "cells": [
  {
   "cell_type": "markdown",
   "metadata": {
    "toc": "true"
   },
   "source": [
    "# Table of Contents\n",
    " <p><div class=\"lev1 toc-item\"><a href=\"#Purpose\" data-toc-modified-id=\"Purpose-1\"><span class=\"toc-item-num\">1&nbsp;&nbsp;</span>Purpose</a></div><div class=\"lev1 toc-item\"><a href=\"#Code\" data-toc-modified-id=\"Code-2\"><span class=\"toc-item-num\">2&nbsp;&nbsp;</span>Code</a></div>"
   ]
  },
  {
   "cell_type": "markdown",
   "metadata": {},
   "source": [
    "# Purpose"
   ]
  },
  {
   "cell_type": "markdown",
   "metadata": {},
   "source": [
    "Purpose of this code is to figure out how many \"levels\" are there from one subreddit to another. This initial code tackles the analysis of two initial subreddits. Maybe an extension of this will be coded where the analysis is done using multiple initial subreddits.\n",
    "\n",
    "My definition of levels is this: Immediate subreddits that share the same moderators as the initial subreddit.  \n",
    "\n",
    "Simple algorithm: Given a subreddit, determine its moderators, and iterate through moderators and determine any *other* subredits that they are moderators in and store in that level's \"subreddit set.\" \n",
    "\n",
    "A set will be used to keep the elements in the collection unique. After iterating through all the mods, the set will contain the \"1st Level\" relationship of subreddits to the initial one.\n",
    "\n",
    "Using this idea of level, another iteration can happen on *each of those* subreddits, then again *on those*, and so on and on. If there was another \"level 0\" subreddit, then a parameter can be defined where the number of levels it takes for the two \"level 0\" subreddits to find a subreddit that is common.\n",
    "\n",
    "I expect a subreddit that has to with a particular college and a subreddit of the city that college is in will \"find\" each other, pretty soon. In other words, the parameter would be a very low number. And maybe some other pair never \"meet\" each other. The point is that we don't know and a mapping of this may confirm certain logic and maybe defy others."
   ]
  },
  {
   "cell_type": "markdown",
   "metadata": {},
   "source": [
    "# Code"
   ]
  },
  {
   "cell_type": "code",
   "execution_count": 137,
   "metadata": {
    "ExecuteTime": {
     "end_time": "2016-12-30T19:38:39.085062",
     "start_time": "2016-12-30T19:38:39.079058"
    },
    "collapsed": true
   },
   "outputs": [],
   "source": [
    "import praw\n",
    "import reddit_creds as rc\n",
    "\n",
    "from bs4 import BeautifulSoup\n",
    "import json\n",
    "import urllib.request\n",
    "import requests\n",
    "import requests.auth\n",
    "import pprint as pp2\n",
    "import time"
   ]
  },
  {
   "cell_type": "code",
   "execution_count": 6,
   "metadata": {
    "ExecuteTime": {
     "end_time": "2016-12-29T14:09:17.958846",
     "start_time": "2016-12-29T14:09:17.576662"
    },
    "collapsed": false
   },
   "outputs": [],
   "source": [
    "uag = 'Subreddit_Relation_Analysis:v1.0.0 (/u/Nazi_Ganesh)'\n",
    "headers = {\"User-Agent\": uag}\n",
    "rd = praw.Reddit(check_for_updates = True,\n",
    "                 client_id = rc.cid,\n",
    "                 client_secret = rc.sec,\n",
    "                 user_agent = uag,\n",
    "                 username = rc.usr,\n",
    "                 password = rc.psw)"
   ]
  },
  {
   "cell_type": "code",
   "execution_count": 132,
   "metadata": {
    "ExecuteTime": {
     "end_time": "2016-12-30T19:28:03.301993",
     "start_time": "2016-12-30T19:28:02.452719"
    },
    "collapsed": false,
    "scrolled": true
   },
   "outputs": [
    {
     "data": {
      "text/plain": [
       "['videos',\n",
       " 'space',\n",
       " 'technology',\n",
       " 'howto',\n",
       " 'compsci',\n",
       " 'philadelphia',\n",
       " 'RedditThroughHistory',\n",
       " 'PoliticalVideo',\n",
       " 'til',\n",
       " 'UPenn',\n",
       " 'bestof2015',\n",
       " 'videos_discussion',\n",
       " 'ClassicInternets',\n",
       " 'OnlyYoutubeLinks',\n",
       " 'dawes',\n",
       " 'TechnologyTalk',\n",
       " 'doug3465',\n",
       " 'polvol',\n",
       " 'politicalvids',\n",
       " 'dougstestsub',\n",
       " 'snapchattersofreddit']"
      ]
     },
     "execution_count": 132,
     "metadata": {},
     "output_type": "execute_result"
    }
   ],
   "source": [
    "def usr2modsubs(user_name, uag=uag, headers=headers):\n",
    "    sauce = requests.get(\"https://www.reddit.com/user/\" + user_name, headers=headers).content\n",
    "    soup = BeautifulSoup(sauce, 'lxml')\n",
    "    mod_subs = soup.find(id=\"side-mod-list\")\n",
    "    if mod_subs == None:\n",
    "        return False\n",
    "    else:\n",
    "        return [subreddit.find('a').get_text()[3:] for subreddit in mod_subs.contents]\n",
    "    \n",
    "usr2modsubs('doug3465')"
   ]
  },
  {
   "cell_type": "code",
   "execution_count": 139,
   "metadata": {
    "ExecuteTime": {
     "end_time": "2016-12-30T19:39:16.722613",
     "start_time": "2016-12-30T19:39:06.718045"
    },
    "collapsed": false
   },
   "outputs": [
    {
     "name": "stdout",
     "output_type": "stream",
     "text": [
      "0\n",
      "1\n",
      "2\n",
      "3\n",
      "4\n"
     ]
    }
   ],
   "source": [
    "for ii in range(5):\n",
    "    pp2.pprint(ii)\n",
    "    time.sleep(2)"
   ]
  },
  {
   "cell_type": "code",
   "execution_count": 166,
   "metadata": {
    "ExecuteTime": {
     "end_time": "2016-12-30T21:13:13.012120",
     "start_time": "2016-12-30T21:12:09.073619"
    },
    "collapsed": false,
    "scrolled": true
   },
   "outputs": [
    {
     "name": "stdout",
     "output_type": "stream",
     "text": [
      "'TexasTech'\n",
      "'TexasTech'\n",
      "'UberLubbock'\n",
      "'DWCA'\n",
      "'TexasTech'\n",
      "'vicegamers'\n",
      "'black_redditors'\n",
      "'Lubbock'\n",
      "'TexasTech'\n",
      "'McKinney'\n",
      "'Lubbock'\n",
      "'sex_magick'\n",
      "'Lubbock'\n",
      "'Lubbock'\n",
      "'Lubbock'\n",
      "'TexasTech'\n",
      "'McKinney'\n",
      "'TexasTech'\n",
      "'TexasTech'\n",
      "'UberLubbock'\n",
      "'DWCA'\n",
      "'TexasTech'\n",
      "'vicegamers'\n",
      "'black_redditors'\n",
      "'Lubbock'\n",
      "'TexasTech'\n",
      "'McKinney'\n",
      "{'TexasTech', 'McKinney', 'Lubbock'}\n"
     ]
    },
    {
     "data": {
      "text/plain": [
       "3"
      ]
     },
     "execution_count": 166,
     "metadata": {},
     "output_type": "execute_result"
    }
   ],
   "source": [
    "# One Level\n",
    "def subr_rel(subreddit_name, subredit_related_set = set()):\n",
    "    subr = rd.subreddit(subreddit_name)\n",
    "    subr_mods = [mod.name for mod in subr.moderator]\n",
    "\n",
    "    for mods in subr_mods:\n",
    "        for mods_list in usr2modsubs(mods):\n",
    "            pp2.pprint(mods_list)\n",
    "            subredit_related_set.add(mods_list)\n",
    "            time.sleep(2)\n",
    "        \n",
    "\n",
    "    return subredit_related_set\n",
    "\n",
    "subr_rel('TexasTech', {'DWCA', 'vicegamers', 'videos', 'suren'})\n",
    "\n",
    "#def subrs_rel(subreddits_name = ['Lubbock', 'TexasTech'], subreddit_related_sets = [set(), set()], level = 0):\n",
    "subr_1_rel_sets_0 = set()\n",
    "subr_2_rel_sets_0 = set()\n",
    "subr_1_name = 'Lubbock'\n",
    "subr_2_name = 'TexasTech'\n",
    "\n",
    "\n",
    "subr_1_rel_sets_0 = subr_rel(subr_1_name, subr_1_rel_sets_0)\n",
    "subr_2_rel_sets_0 = subr_rel(subr_2_name, subr_2_rel_sets_0)\n",
    "\n",
    "subreddit_related_sets = subr_1_rel_sets_0 & subr_2_rel_sets_0\n",
    "\n",
    "print(subreddit_related_sets)\n",
    "len(subreddit_related_sets)"
   ]
  },
  {
   "cell_type": "code",
   "execution_count": null,
   "metadata": {
    "collapsed": true
   },
   "outputs": [],
   "source": []
  },
  {
   "cell_type": "code",
   "execution_count": 165,
   "metadata": {
    "ExecuteTime": {
     "end_time": "2016-12-30T20:39:48.464490",
     "start_time": "2016-12-30T20:39:48.458987"
    },
    "collapsed": false
   },
   "outputs": [
    {
     "data": {
      "text/plain": [
       "1"
      ]
     },
     "execution_count": 165,
     "metadata": {},
     "output_type": "execute_result"
    }
   ],
   "source": [
    "test = {1,2,3,4,5} & {5,6,7,8,9,10}\n",
    "len(test)"
   ]
  },
  {
   "cell_type": "code",
   "execution_count": 47,
   "metadata": {
    "ExecuteTime": {
     "end_time": "2016-12-29T14:41:23.969528",
     "start_time": "2016-12-29T14:41:23.645864"
    },
    "collapsed": false
   },
   "outputs": [
    {
     "data": {
      "text/plain": [
       "'EnriqueR'"
      ]
     },
     "execution_count": 47,
     "metadata": {},
     "output_type": "execute_result"
    }
   ],
   "source": [
    "subr_lub = rd.subreddit('Lubbock')\n",
    "lub_mods = subr_lub.moderator\n",
    "mods = [mod.name for mod in lub_mods]"
   ]
  },
  {
   "cell_type": "code",
   "execution_count": 38,
   "metadata": {
    "ExecuteTime": {
     "end_time": "2016-12-29T14:38:06.254419",
     "start_time": "2016-12-29T14:38:06.116915"
    },
    "collapsed": false
   },
   "outputs": [
    {
     "name": "stdout",
     "output_type": "stream",
     "text": [
      "ketralnis\n",
      "spez\n",
      "jedberg\n",
      "kn0thing\n",
      "KeyserSosa\n",
      "spladug\n",
      "chromakode\n",
      "bboe\n",
      "kemitche\n",
      "umbrae\n",
      "thorarakis\n",
      "gooeyblob\n"
     ]
    }
   ],
   "source": [
    "for moderator in rd.subreddit('redditdev').moderator:\n",
    "    print(moderator)"
   ]
  }
 ],
 "metadata": {
  "kernelspec": {
   "display_name": "Python 3",
   "language": "python",
   "name": "python3"
  },
  "language_info": {
   "codemirror_mode": {
    "name": "ipython",
    "version": 3
   },
   "file_extension": ".py",
   "mimetype": "text/x-python",
   "name": "python",
   "nbconvert_exporter": "python",
   "pygments_lexer": "ipython3",
   "version": "3.5.2"
  },
  "toc": {
   "colors": {
    "hover_highlight": "#DAA520",
    "running_highlight": "#FF0000",
    "selected_highlight": "#FFD700"
   },
   "moveMenuLeft": true,
   "nav_menu": {
    "height": "47px",
    "width": "251px"
   },
   "navigate_menu": true,
   "number_sections": true,
   "sideBar": false,
   "threshold": 4,
   "toc_cell": true,
   "toc_position": {
    "height": "108px",
    "left": "711px",
    "right": "20px",
    "top": "-19.9333px",
    "width": "260px"
   },
   "toc_section_display": "none",
   "toc_window_display": true
  }
 },
 "nbformat": 4,
 "nbformat_minor": 2
}
